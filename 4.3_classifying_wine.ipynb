{
 "cells": [
  {
   "cell_type": "code",
   "execution_count": null,
   "metadata": {
    "collapsed": false
   },
   "outputs": [],
   "source": [
    "// boring imports\n",
    "var Plot = require('plotly-notebook-js');\n",
    "var {loadLabelledWine, plotClustersWithLabels} = require('./utils');\n",
    "var max = require('lodash/max');\n",
    "var findIndex = require('lodash/findIndex');"
   ]
  },
  {
   "cell_type": "markdown",
   "metadata": {},
   "source": [
    "# Neural Nets on Wine\n",
    "\n",
    "You know the drill let's load up the Wine dataset (again) and see how a neural network performs on it with [convnetjs](http://cs.stanford.edu/people/karpathy/convnetjs/)"
   ]
  },
  {
   "cell_type": "code",
   "execution_count": null,
   "metadata": {
    "collapsed": false
   },
   "outputs": [],
   "source": [
    "var {features, dataset} = loadLabelledWine({verbose: true});"
   ]
  },
  {
   "cell_type": "markdown",
   "metadata": {},
   "source": [
    "When using Neural Networks it's best to normalise our data"
   ]
  },
  {
   "cell_type": "code",
   "execution_count": null,
   "metadata": {
    "collapsed": false
   },
   "outputs": [],
   "source": [
    "var preprocess = require('ml-preprocess');\n",
    "\n",
    "var inputs = preprocess.center(dataset.map(d => [d[0], d[10]]));\n",
    "var labels = dataset.map(d => d[13]-1);"
   ]
  },
  {
   "cell_type": "markdown",
   "metadata": {
    "collapsed": true
   },
   "source": [
    "### Go ConvNet\n",
    "\n",
    "We are going to build a simple neural network to do supervised classification. \n",
    "\n",
    "We're aiming for a (Fully Connected) Feed Forward Network with 1 or more hidden layers. It'll be trained using all of our sample data.\n",
    "\n",
    "![Feed Forward Neural Network](images/feedforwardnetwork.png)\n",
    "\n",
    "\n"
   ]
  },
  {
   "cell_type": "code",
   "execution_count": null,
   "metadata": {
    "collapsed": false
   },
   "outputs": [],
   "source": [
    "var convnetjs, {Vol, Net, Layer, Trainer} = require('convnetjs')"
   ]
  },
  {
   "cell_type": "markdown",
   "metadata": {
    "collapsed": true
   },
   "source": [
    "### Load the training data into Vols\n",
    "\n",
    "We are actually loading this into multiple copies of the input layer"
   ]
  },
  {
   "cell_type": "code",
   "execution_count": null,
   "metadata": {
    "collapsed": false
   },
   "outputs": [],
   "source": [
    "var X = inputs.map(input => (new Vol(input)));"
   ]
  },
  {
   "cell_type": "markdown",
   "metadata": {},
   "source": [
    "### Define the Network Structure"
   ]
  },
  {
   "cell_type": "code",
   "execution_count": null,
   "metadata": {
    "collapsed": true
   },
   "outputs": [],
   "source": [
    "var layer_defs = [];\n",
    "\n",
    "layer_defs.push({type:'input', out_sx:1, out_sy:1, out_depth:2});\n",
    "layer_defs.push({type:'fc', num_neurons:20, activation: 'sigmoid'});\n",
    "layer_defs.push({type:'softmax', num_classes:3});\n",
    "\n",
    "// create a net\n",
    "var net = new Net();\n",
    "net.makeLayers(layer_defs);"
   ]
  },
  {
   "cell_type": "markdown",
   "metadata": {},
   "source": [
    "### Train the network"
   ]
  },
  {
   "cell_type": "code",
   "execution_count": null,
   "metadata": {
    "collapsed": false,
    "scrolled": false
   },
   "outputs": [],
   "source": [
    "var trainer = new Trainer(net, { learning_rate:0.01, l2_decay:0.001 });\n",
    "\n",
    "var NUM_PASSES = 10000;\n",
    "for (var n = 0; n < NUM_PASSES; n++) {   \n",
    "    for (var i = 0; i < 160; i++) {\n",
    "        trainer.train(X[i], labels[i]);    \n",
    "    }    \n",
    "}"
   ]
  },
  {
   "cell_type": "markdown",
   "metadata": {},
   "source": [
    "### Make Predictions\n"
   ]
  },
  {
   "cell_type": "code",
   "execution_count": null,
   "metadata": {
    "collapsed": false
   },
   "outputs": [],
   "source": [
    "var predictions = X.map((x, i) => {\n",
    "    var scores = net.forward(x);\n",
    "    var maxp = max(scores.w);\n",
    "    return findIndex(scores.w, s => s === maxp);\n",
    "});"
   ]
  },
  {
   "cell_type": "markdown",
   "metadata": {},
   "source": [
    "### Plot Results"
   ]
  },
  {
   "cell_type": "code",
   "execution_count": null,
   "metadata": {
    "collapsed": false
   },
   "outputs": [],
   "source": [
    "$$html$$ = plotClustersWithLabels(inputs.map(d => d[0]), inputs.map(d => d[1]), labels, \"Actual Labels\");"
   ]
  },
  {
   "cell_type": "code",
   "execution_count": null,
   "metadata": {
    "collapsed": false
   },
   "outputs": [],
   "source": [
    "$$html$$ = plotClustersWithLabels(inputs.map(d => d[0]), inputs.map(d => d[1]), predictions, \"Predicted Labels\");"
   ]
  },
  {
   "cell_type": "markdown",
   "metadata": {},
   "source": [
    "### Accuracy\n"
   ]
  },
  {
   "cell_type": "code",
   "execution_count": null,
   "metadata": {
    "collapsed": false
   },
   "outputs": [],
   "source": [
    "var ConfusionMatrix = require('ml-confusion-matrix');\n",
    "\n",
    "var C = ConfusionMatrix.fromLabels(labels, predictions)\n",
    "\n",
    "var M = C.getMatrix();\n",
    "var trace = { \n",
    "    x: [0,1,2],\n",
    "    y: [0,1,2],\n",
    "    z: M,\n",
    "    type: 'heatmap',\n",
    "    showscale: false,\n",
    "    colorscale:[[0, '#3D9970'], [100, '#001f3f']]\n",
    "};\n",
    "\n",
    "console.log(\"Accuracy\", C.getAccuracy())\n",
    "console.log(\"F1 Class 1\", C.getF1Score(0))\n",
    "console.log(\"F1 Class 2\", C.getF1Score(1))\n",
    "console.log(\"F1 Class 3\", C.getF1Score(2))\n",
    "\n",
    "// everything below here is just plotting code, get it in a utility fn!\n",
    "var annotations = [];\n",
    "M.map((a,y) => {\n",
    "    a.map((b,x) => {\n",
    "        annotations.push(\n",
    "            {\n",
    "                x: x,\n",
    "                y: y,\n",
    "                text: M[y][x],\n",
    "                font: {\n",
    "                    family: 'Arial',\n",
    "                    size: 12,\n",
    "                    color: 'white'\n",
    "                  },\n",
    "                showarrow: false\n",
    "            }\n",
    "        )\n",
    "    })\n",
    "})\n",
    "\n",
    "var layout = { \n",
    "    xaxis: { title: \"predicted\", side: 'top' },\n",
    "    yaxis: { title: \"actuals\", nticks: 6, autosize: false, autorange: 'reversed' },\n",
    "    annotations,\n",
    "    width: 500, height: 500};\n",
    "\n",
    "$$html$$ = Plot.createPlot([trace], layout).render();"
   ]
  },
  {
   "cell_type": "code",
   "execution_count": null,
   "metadata": {
    "collapsed": true
   },
   "outputs": [],
   "source": []
  },
  {
   "cell_type": "code",
   "execution_count": null,
   "metadata": {
    "collapsed": true
   },
   "outputs": [],
   "source": []
  }
 ],
 "metadata": {
  "anaconda-cloud": {},
  "kernelspec": {
   "display_name": "jp-Babel (Node.js)",
   "language": "babel",
   "name": "babel"
  },
  "language_info": {
   "file_extension": ".js",
   "mimetype": "application/javascript",
   "name": "javascript",
   "version": "8.5.0"
  }
 },
 "nbformat": 4,
 "nbformat_minor": 2
}
