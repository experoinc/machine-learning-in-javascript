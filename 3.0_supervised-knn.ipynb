{
 "cells": [
  {
   "cell_type": "code",
   "execution_count": null,
   "metadata": {
    "collapsed": false
   },
   "outputs": [],
   "source": [
    "// boring imports\n",
    "var Plot = require('plotly-notebook-js');\n",
    "var {loadLabelledWine, plotClustersWithLabels} = require('./utils');"
   ]
  },
  {
   "cell_type": "markdown",
   "metadata": {},
   "source": [
    "# Supervised Learning\n"
   ]
  },
  {
   "cell_type": "markdown",
   "metadata": {
    "collapsed": true
   },
   "source": [
    "![Supervised learning](images/slide_supervised.png)"
   ]
  },
  {
   "cell_type": "markdown",
   "metadata": {},
   "source": [
    "### Techniques availble\n",
    "\n",
    " - **KNN - K Nearest Neighbors**\n",
    " - SVM - Scalar Vector Machines\n",
    " - Naive Bayes\n",
    " - Partial Least Squares [regression]\n",
    "\n"
   ]
  },
  {
   "cell_type": "code",
   "execution_count": null,
   "metadata": {
    "collapsed": false
   },
   "outputs": [],
   "source": [
    "var {features, dataset} = loadLabelledWine({verbose: true});"
   ]
  },
  {
   "cell_type": "markdown",
   "metadata": {},
   "source": [
    "## K Nearest Neighbors\n"
   ]
  },
  {
   "cell_type": "markdown",
   "metadata": {},
   "source": [
    "##### KNN in mljs\n",
    "\n",
    " - docs for the KNN module are [here](https://mljs.github.io/knn/)\n",
    " - docs for the various kernel options are [here](https://github.com/mljs/kernel)\n",
    "\n",
    "Make KNN with inputs and labels."
   ]
  },
  {
   "cell_type": "code",
   "execution_count": null,
   "metadata": {
    "collapsed": false
   },
   "outputs": [],
   "source": [
    "var KNN = require('ml-knn');\n",
    "\n",
    "var inputs = dataset.map(d => [d[0], d[10]]);\n",
    "var labels = dataset.map(d => d[13]);\n",
    "\n",
    "var options = {\n",
    "  k: 3\n",
    "};\n",
    "\n",
    "var knn = new KNN(inputs, labels, options);"
   ]
  },
  {
   "cell_type": "markdown",
   "metadata": {},
   "source": [
    "Check the some slices from labels and predicted values by using `knn.predict(inputs)`."
   ]
  },
  {
   "cell_type": "markdown",
   "metadata": {},
   "source": [
    "### Make some predictions and show some results\n",
    "\n",
    "Let's plot the original dataset including it's known labels and our predictions"
   ]
  },
  {
   "cell_type": "code",
   "execution_count": null,
   "metadata": {
    "collapsed": false
   },
   "outputs": [],
   "source": [
    "var predictions = inputs.map(input => knn.predict(input))"
   ]
  },
  {
   "cell_type": "code",
   "execution_count": null,
   "metadata": {
    "collapsed": false
   },
   "outputs": [],
   "source": [
    "$$html$$ = plotClustersWithLabels(inputs.map(d => d[0]), inputs.map(d => d[1]), labels, \"Actual Labels\");"
   ]
  },
  {
   "cell_type": "code",
   "execution_count": null,
   "metadata": {
    "collapsed": false
   },
   "outputs": [],
   "source": [
    "$$html$$ = plotClustersWithLabels(inputs.map(d => d[0]), inputs.map(d => d[1]), predictions, \"Predicted Labels\");"
   ]
  },
  {
   "cell_type": "markdown",
   "metadata": {},
   "source": [
    "### Measure Accuracy\n",
    "\n",
    "Use the same confusion matrix approach as earlier to compute accuracy and f1-scores"
   ]
  },
  {
   "cell_type": "code",
   "execution_count": null,
   "metadata": {
    "collapsed": false
   },
   "outputs": [],
   "source": [
    "var ConfusionMatrix = require('ml-confusion-matrix');\n",
    "\n",
    "var actuals = labels;\n",
    "var predicted = inputs.map(i => knn.predict(i))\n",
    "\n",
    "var C = ConfusionMatrix.fromLabels(actuals, predicted)\n",
    "\n",
    "var M = C.getMatrix();\n",
    "var trace = { \n",
    "    x: [0,1,2],\n",
    "    y: [0,1,2],\n",
    "    z: M,\n",
    "    type: 'heatmap',\n",
    "    showscale: false,\n",
    "    colorscale:[[0, '#3D9970'], [100, '#001f3f']]\n",
    "};\n",
    "\n",
    "console.log(\"Accuracy\", C.getAccuracy())\n",
    "console.log(\"F1 Class 1\", C.getF1Score(1))\n",
    "console.log(\"F1 Class 2\", C.getF1Score(2))\n",
    "console.log(\"F1 Class 3\", C.getF1Score(3))\n",
    "\n",
    "// everything below here is just plotting code, get it in a utility fn!\n",
    "var annotations = [];\n",
    "M.map((a,y) => {\n",
    "    a.map((b,x) => {\n",
    "        annotations.push(\n",
    "            {\n",
    "                x: x,\n",
    "                y: y,\n",
    "                text: M[y][x],\n",
    "                font: {\n",
    "                    family: 'Arial',\n",
    "                    size: 12,\n",
    "                    color: 'white'\n",
    "                  },\n",
    "                showarrow: false\n",
    "            }\n",
    "        )\n",
    "    })\n",
    "})\n",
    "\n",
    "var layout = { \n",
    "    xaxis: { title: \"predicted\", side: 'top' },\n",
    "    yaxis: { title: \"actuals\", nticks: 6, autosize: false, autorange: 'reversed' },\n",
    "    annotations,\n",
    "    width: 500, height: 500};\n",
    "\n",
    "$$html$$ = Plot.createPlot([trace], layout).render();"
   ]
  },
  {
   "cell_type": "markdown",
   "metadata": {},
   "source": [
    "#### Discussion\n",
    "\n",
    " - How does you accuracy compare with our unsupervised approaches?\n",
    " - Is this too good to be tru and should you be suspicous?\n",
    " - Can you think of how to get a better accuracy measurement?"
   ]
  }
 ],
 "metadata": {
  "anaconda-cloud": {},
  "kernelspec": {
   "display_name": "jp-Babel (Node.js)",
   "language": "babel",
   "name": "babel"
  },
  "language_info": {
   "file_extension": ".js",
   "mimetype": "application/javascript",
   "name": "javascript",
   "version": "8.5.0"
  }
 },
 "nbformat": 4,
 "nbformat_minor": 2
}
