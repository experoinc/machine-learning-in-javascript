{
 "cells": [
  {
   "cell_type": "markdown",
   "metadata": {
    "collapsed": true
   },
   "source": [
    "# Datasets Used"
   ]
  },
  {
   "cell_type": "markdown",
   "metadata": {},
   "source": [
    "![wine](images/wine.jpg)"
   ]
  },
  {
   "cell_type": "markdown",
   "metadata": {},
   "source": [
    "## Wine\n",
    "\n",
    "A anonymised, labelled dataset of different wines in csv format. \n",
    "\n",
    "    These data are the results of a chemical analysis of\n",
    "    wines grown in the same region in Italy but derived from three\n",
    "    different cultivars.\n",
    "    The analysis determined the quantities of 13 constituents\n",
    "    found in each of the three types of wines. \n",
    "\n",
    "There are 13 attributes for each wine plus a class label (the first column)\n",
    "\n",
    " \n",
    " 1. Alcohol\n",
    " 2. Malic acid\n",
    " 3. Ash\n",
    " 4. Alcalinity of ash  \n",
    " 5. Magnesium\n",
    " 6. Total phenols\n",
    " 7. Flavanoids\n",
    " 8. Nonflavanoid phenols\n",
    " 9. Proanthocyanins\n",
    " 10. Color intensity\n",
    " 11. Hue\n",
    " 12. OD280/OD315 of diluted wines\n",
    " 13. Proline   \n",
    " 0. Class Label\n",
    "\n",
    "The datasaet is here: [datasets/wine.data.csv](datasets/wine.data.csv)\n",
    "The full description is [here](datasets/wine.names.txt)\n",
    "\n",
    "Acknowledgement - Lichman, M. (2013). [UCI Machine Learning Repository](http://archive.ics.uci.edu/ml). Irvine, CA: University of California, School of Information and Computer Science."
   ]
  },
  {
   "cell_type": "code",
   "execution_count": 2,
   "metadata": {
    "collapsed": false
   },
   "outputs": [
    {
     "name": "stdout",
     "output_type": "stream",
     "text": [
      "Alcohol | Malic Acid | Ash | Alcalinity of ash | Magnesium | Total phenols | Flavanoids | Nonflavanoid phenols | Proanthocyanins | Color intensity | Hue | OD280/OD315 of diluted wines | Proline | Class\n",
      "13.05 | 1.73 | 2.04 | 12.4 | 92  | 2.72 | 3.27 | 0.17 | 2.91 | 7.2  | 1.12 | 2.91 | 1150 | 1\n",
      "13.83 | 1.65 | 2.6  | 17.2 | 94  | 2.45 | 2.99 | 0.22 | 2.29 | 5.6  | 1.24 | 3.37 | 1265 | 1\n",
      "13.82 | 1.75 | 2.42 | 14   | 111 | 3.88 | 3.74 | 0.32 | 1.87 | 7.05 | 1.01 | 3.26 | 1190 | 1\n",
      "13.77 |  1.9 | 2.68 | 17.1 | 115 | 3    | 2.79 | 0.39 | 1.68 | 6.3  | 1.13 | 2.93 | 1375 | 1\n",
      "13.74 | 1.67 | 2.25 | 16.4 | 118 | 2.6  | 2.9  | 0.21 | 1.62 | 5.85 | 0.92 | 3.2  | 1060 | 1\n",
      "13.56 | 1.73 | 2.46 | 20.5 | 116 | 2.96 | 2.78 | 0.2  | 2.45 | 6.25 | 0.98 | 3.03 | 1120 | 1\n",
      "14.22 |  1.7 | 2.3  | 16.3 | 118 | 3.2  | 3    | 0.26 | 2.03 | 6.38 | 0.94 | 3.31 | 970  | 1\n",
      "13.29 | 1.97 | 2.68 | 16.8 | 102 | 3    | 3.23 | 0.31 | 1.66 | 6    | 1.07 | 2.84 | 1270 | 1\n",
      "13.72 | 1.43 | 2.5  | 16.7 | 108 | 3.4  | 3.67 | 0.19 | 2.04 | 6.8  | 0.89 | 2.87 | 1285 | 1\n",
      "12.37 | 0.94 | 1.36 | 10.6 | 88  | 1.98 | 0.57 | 0.28 | 0.42 | 1.95 | 1.05 | 1.82 | 520  | 2\n",
      "12.33 |  1.1 | 2.28 | 16   | 101 | 2.05 | 1.09 | 0.63 | 0.41 | 3.27 | 1.25 | 1.67 | 680  | 2\n",
      "12.64 | 1.36 | 2.02 | 16.8 | 100 | 2.02 | 1.41 | 0.53 | 0.62 | 5.75 | 0.98 | 1.59 | 450  | 2\n",
      "13.67 | 1.25 | 1.92 | 18   | 94  | 2.1  | 1.79 | 0.32 | 0.73 | 3.8  | 1.23 | 2.46 | 630  | 2\n",
      "12.37 | 1.13 | 2.16 | 19   | 87  | 3.5  | 3.1  | 0.19 | 1.87 | 4.45 | 1.22 | 2.87 | 420  | 2\n",
      "12.17 | 1.45 | 2.53 | 19   | 104 | 1.89 | 1.75 | 0.45 | 1.03 | 2.95 | 1.45 | 2.23 | 355  | 2\n",
      "12.37 | 1.21 | 2.56 | 18.1 | 98  | 2.42 | 2.65 | 0.37 | 2.08 | 4.6  | 1.19 | 2.3  | 678  | 2\n",
      "13.11 | 1.01 | 1.7  | 15   | 78  | 2.98 | 3.18 | 0.26 | 2.28 | 5.3  | 1.12 | 3.18 | 502  | 2\n",
      "12.37 | 1.17 | 1.92 | 19.6 | 78  | 2.11 | 2    | 0.27 | 1.04 | 4.68 | 1.12 | 3.48 | 510  | 2\n",
      "13.34 | 0.94 | 2.36 | 17   | 110 | 2.53 | 1.3  | 0.55 | 0.42 | 3.17 | 1.02 | 1.93 | 750  | 2\n",
      "12.21 | 1.19 | 1.75 | 16.8 | 151 | 1.85 | 1.28 | 0.14 | 2.5  | 2.85 | 1.28 | 3.07 | 718  | 2\n"
     ]
    }
   ],
   "source": [
    "var fs = require(\"fs\");\n",
    "var parse = require('csv-parse/lib/sync');\n",
    "import table from 'text-table';\n",
    "\n",
    "var raw_csv_string = fs.readFileSync(\"datasets/wine.data.csv\").toString();\n",
    "\n",
    "var dataset = parse(raw_csv_string);\n",
    "\n",
    "var wineTitles = [\n",
    "    'Alcohol',\n",
    "    'Malic Acid',\n",
    "    'Ash',\n",
    "    'Alcalinity of ash',\n",
    "    'Magnesium',\n",
    "    'Total phenols',\n",
    "    'Flavanoids',\n",
    "    'Nonflavanoid phenols',\n",
    "    'Proanthocyanins',\n",
    "    'Color intensity',\n",
    "    'Hue',\n",
    "    'OD280/OD315 of diluted wines',\n",
    "    'Proline',\n",
    "    'Class'];\n",
    "\n",
    "var format = { align: [ 'c', 'c' ], hsep: ' | ' };\n",
    "\n",
    "var T = table([wineTitles], format);\n",
    "console.log(T)\n",
    "var D = table(dataset.slice(50,70), format);\n",
    "console.log(D)\n"
   ]
  },
  {
   "cell_type": "code",
   "execution_count": null,
   "metadata": {
    "collapsed": true
   },
   "outputs": [],
   "source": []
  }
 ],
 "metadata": {
  "anaconda-cloud": {},
  "kernelspec": {
   "display_name": "jp-Babel (Node.js)",
   "language": "babel",
   "name": "babel"
  },
  "language_info": {
   "file_extension": ".js",
   "mimetype": "application/javascript",
   "name": "javascript",
   "version": "8.5.0"
  }
 },
 "nbformat": 4,
 "nbformat_minor": 2
}
