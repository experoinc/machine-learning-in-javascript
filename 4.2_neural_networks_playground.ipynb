{
 "cells": [
  {
   "cell_type": "code",
   "execution_count": 19,
   "metadata": {
    "collapsed": false
   },
   "outputs": [
    {
     "data": {
      "text/plain": [
       "'use strict'"
      ]
     },
     "execution_count": 19,
     "metadata": {},
     "output_type": "execute_result"
    }
   ],
   "source": [
    "// boring imports & Stuff\n",
    "var max = require('lodash/max');\n",
    "var findIndex = require('lodash/findIndex');\n",
    "var convnetjs, {Vol, Net, Layer, Trainer} = require('convnetjs')\n",
    "var Plot = require('plotly-notebook-js');\n",
    "var {grid2} = require('./utils')\n",
    "\n",
    "function testOne(net, x, y) {\n",
    "    var scores = net.forward(x);\n",
    "    var maxp = max(scores.w);\n",
    "    var result = { class: findIndex(scores.w, s => s === maxp), maxp, scores };\n",
    "    result.correct = (y === result.class);\n",
    "    return result;\n",
    "}\n",
    "\n",
    "function test(net, X, Y) {\n",
    "    X.map((x, idx) => {\n",
    "        var result = testOne(net, x);\n",
    "        var rw = result.correct ? \"RIGHT\" : \"WRONG\"\n",
    "        console.log(\"Pred:\", result.class, \"Actual:\", Y[idx], \"Prob:\", result.maxp)\n",
    "    });\n",
    "}"
   ]
  },
  {
   "cell_type": "markdown",
   "metadata": {},
   "source": [
    "# Neural Networks with Convnet.js continued...\n",
    "\n",
    "We're continuing the XOR exercide from the last page with some concrete things to try. The first few cells just get us set up again.\n",
    "\n"
   ]
  },
  {
   "cell_type": "markdown",
   "metadata": {},
   "source": [
    "#### Training Data"
   ]
  },
  {
   "cell_type": "code",
   "execution_count": 20,
   "metadata": {
    "collapsed": false
   },
   "outputs": [],
   "source": [
    "var X = [\n",
    "    new Vol([0,0]),\n",
    "    new Vol([1,0]),\n",
    "    new Vol([0,1]),\n",
    "    new Vol([1,1])\n",
    "];\n",
    "\n",
    "var Y = [0, 1, 1, 0];"
   ]
  },
  {
   "cell_type": "markdown",
   "metadata": {},
   "source": [
    "#### Architecture"
   ]
  },
  {
   "cell_type": "code",
   "execution_count": 27,
   "metadata": {
    "collapsed": true
   },
   "outputs": [],
   "source": [
    "var layer_defs = [];\n",
    "\n",
    "layer_defs.push({type:'input', out_sx:1, out_sy:1, out_depth:2});\n",
    "layer_defs.push({type:'fc', num_neurons:4 , activation: 'relu'});\n",
    "layer_defs.push({type:'softmax', num_classes:2});\n",
    "\n",
    "// create a net\n",
    "var net = new Net();\n",
    "net.makeLayers(layer_defs);"
   ]
  },
  {
   "cell_type": "markdown",
   "metadata": {},
   "source": [
    "#### Training"
   ]
  },
  {
   "cell_type": "code",
   "execution_count": 28,
   "metadata": {
    "collapsed": false
   },
   "outputs": [
    {
     "name": "stdout",
     "output_type": "stream",
     "text": [
      "Trained 4000 iterations\n"
     ]
    }
   ],
   "source": [
    "var trainer = new Trainer(net, { learning_rate:0.01, l2_decay:0.001 });\n",
    "\n",
    "var NUM_PASSES = 1000;\n",
    "\n",
    "for (let p = 0; p < NUM_PASSES; p++) {\n",
    "    for (let i = 0; i < X.length; i++) {\n",
    "        trainer.train(X[i], Y[i]); \n",
    "    }\n",
    "}\n",
    "\n",
    "console.log(\"Trained\", NUM_PASSES*X.length, \"iterations\")\n"
   ]
  },
  {
   "cell_type": "markdown",
   "metadata": {},
   "source": [
    "#### Testing"
   ]
  },
  {
   "cell_type": "code",
   "execution_count": 29,
   "metadata": {
    "collapsed": false
   },
   "outputs": [
    {
     "name": "stdout",
     "output_type": "stream",
     "text": [
      "Pred: 0 Actual: 0 Prob: 0.9936578022738751\n",
      "Pred: 1 Actual: 1 Prob: 0.9957826764855495\n",
      "Pred: 1 Actual: 1 Prob: 0.9959455822485174\n",
      "Pred: 0 Actual: 0 Prob: 0.9964252884927225\n"
     ]
    }
   ],
   "source": [
    "test(net, X, Y)"
   ]
  },
  {
   "cell_type": "markdown",
   "metadata": {},
   "source": [
    "Our network as is is the minimum to run convnet but it has practicaly no discriminatory power. We need to add another fully connected layer to the architecture.\n",
    "\n",
    "check the [docs](http://cs.stanford.edu/people/karpathy/convnetjs/docs.html) and add a fully connected layer with 10 neurons and `relu` activation functions.\n"
   ]
  },
  {
   "cell_type": "markdown",
   "metadata": {},
   "source": [
    "### Plot the decision space\n",
    "\n",
    "Just like we did for k-means let's push some inputs through the network over the range of [-1, 1] in both input dimensions and plot the resulting class outputs as a heatmap.\n",
    "\n",
    "Also it might be interetsting to plot out the probabilities or separate charts.\n",
    "\n",
    "HINT: the testOne function in the top cell might help."
   ]
  },
  {
   "cell_type": "code",
   "execution_count": 23,
   "metadata": {
    "collapsed": false
   },
   "outputs": [
    {
     "data": {
      "text/html": [
       "<div class='plotly-plot'><div id='notebook-plot-1507483512459'></div><script>function plot(){Plotly.plot('notebook-plot-1507483512459',[{\"z\":[[0,0,0,0,0,0,0,0,0,0,0,0,0,0,0,0,0,0,0,0,0],[0,0,0,0,0,0,0,0,0,0,0,0,0,0,0,0,0,0,0,0,0],[0,0,0,0,0,0,0,0,0,0,0,0,0,0,0,0,0,0,0,0,0],[0,0,0,0,0,0,0,0,0,0,0,0,0,0,0,0,0,0,0,0,0],[0,0,0,0,0,0,0,0,0,0,0,0,0,0,0,0,0,0,0,0,0],[0,0,0,0,0,0,0,0,0,0,0,0,0,0,0,0,0,0,0,0,0],[0,0,0,0,0,0,0,0,0,0,0,0,0,0,0,0,0,0,0,0,0],[0,0,0,0,0,0,0,0,0,0,0,0,0,0,0,0,0,0,0,0,0],[0,0,0,0,0,0,0,0,0,0,0,0,0,0,0,0,0,0,0,0,0],[0,0,0,0,0,0,0,0,0,0,0,0,0,0,0,0,0,0,0,0,0],[0,0,0,0,0,0,0,0,0,0,0,0,0,0,0,0,0,0,0,0,0],[0,0,0,0,0,0,0,0,0,0,0,0,0,0,0,0,0,0,0,0,0],[0,0,0,0,0,0,0,0,0,0,0,0,0,0,0,0,0,0,0,0,0],[0,0,0,0,0,0,0,0,0,0,0,0,0,0,0,0,0,0,0,0,0],[0,0,0,0,0,0,0,0,0,0,0,0,0,0,0,0,0,0,0,0,0],[0,0,0,0,0,0,0,0,0,0,0,0,0,0,0,0,0,0,0,0,0],[0,0,0,0,0,0,0,0,0,0,0,0,0,0,0,0,0,0,0,0,0],[0,0,0,0,0,0,0,0,0,0,0,0,0,0,0,0,0,0,0,0,0],[0,0,0,0,0,0,0,0,0,0,0,0,0,0,0,0,0,0,0,0,0],[0,0,0,0,0,0,0,0,0,0,0,0,0,0,0,0,0,0,0,0,0],[0,0,0,0,0,0,0,0,0,0,0,0,0,0,0,0,0,0,0,0,0]],\"type\":\"heatmap\"}],{\"title\":\"decision space\",\"width\":700,\"height\":700});}if(window.Plotly){plot();}else if(!window.require){var head = document.head || document.getElementsByTagName('head')[0];var s = document.createElement('script');s.src = 'https://cdn.plot.ly/plotly-latest.min.js';s.type = 'text/javascript';s.async = false;s.onreadystatechange = s.onload = plot;head.appendChild(s);}else{require(['/notebooks/node_modules/plotly-notebook-js/build/plotly.min.js'], function(Plotly){window.Plotly = Plotly;plot();});}</script></div>"
      ]
     },
     "execution_count": 23,
     "metadata": {},
     "output_type": "execute_result"
    }
   ],
   "source": [
    "var G = grid2([-1,1], 0.1);\n",
    "\n",
    "// compute the \"heat\" data\n",
    "var H = G.map(col => {\n",
    "    return col.map(x => {\n",
    "        return 0;\n",
    "    })\n",
    "});\n",
    "\n",
    "var data = {\n",
    "    z: H,\n",
    "    type: \"heatmap\"\n",
    "}\n",
    "\n",
    "var layout = {\n",
    "    title: \"decision space\",\n",
    "    width: 700,\n",
    "    height: 700\n",
    "}\n",
    "\n",
    "$$html$$ = Plot.createPlot([data], layout).render()"
   ]
  },
  {
   "cell_type": "markdown",
   "metadata": {},
   "source": [
    "#### Playtime\n",
    "\n",
    "Things to try:\n",
    " - different numbers of neurons\n",
    " - different activation functions\n",
    " - more than 1 fc layer"
   ]
  },
  {
   "cell_type": "code",
   "execution_count": null,
   "metadata": {
    "collapsed": true
   },
   "outputs": [],
   "source": []
  }
 ],
 "metadata": {
  "anaconda-cloud": {},
  "kernelspec": {
   "display_name": "jp-Babel (Node.js)",
   "language": "babel",
   "name": "babel"
  },
  "language_info": {
   "file_extension": ".js",
   "mimetype": "application/javascript",
   "name": "javascript",
   "version": "8.5.0"
  }
 },
 "nbformat": 4,
 "nbformat_minor": 2
}
