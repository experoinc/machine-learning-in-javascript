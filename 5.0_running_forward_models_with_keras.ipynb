{
 "cells": [
  {
   "cell_type": "markdown",
   "metadata": {},
   "source": [
    "# Keras.js\n",
    "\n",
    "Running forward models in the browser is probably one of the most compelling application of machine learning in javascript today.\n",
    "\n",
    "Keras a mature and well maintained python library for deep learning that provides a high level front end to Tensorflow, Theano nd CNTK.\n",
    "\n",
    "\n",
    "It has an officially maintained JS library aloowing you to deploy and run pre-trained models in the browser, or anywhere where you have JS availalbe.\n",
    "\n",
    "So we are in a notebook here bbut we could also easily move this to the broser.\n",
    "\n",
    " - [keras.js on github](https://github.com/transcranial/keras-js)\n",
    " - [keras.js demos](https://transcranial.github.io/keras-js/#/)\n",
    "\n"
   ]
  },
  {
   "cell_type": "code",
   "execution_count": null,
   "metadata": {},
   "outputs": [],
   "source": [
    "var KJS = require('keras-js')\n",
    "var Model = KJS.Model;\n",
    "var path = require('path')\n",
    "var Plot = require('plotly-notebook-js');"
   ]
  },
  {
   "cell_type": "markdown",
   "metadata": {},
   "source": [
    "Grab the demo models that keras.js have collected for us. Clone the repo:\n",
    "\n",
    "#### github.com/transcranial/keras-js-demos-data.git\n"
   ]
  },
  {
   "cell_type": "code",
   "execution_count": null,
   "metadata": {},
   "outputs": [],
   "source": [
    "// load on a model\n",
    "var demo_data = path.join('keras-js-demos-data')\n",
    "\n",
    "var model = new KJS.Model({\n",
    "  filepaths: {\n",
    "    model: path.join(demo_data, 'resnet50','resnet50.json'),\n",
    "    weights: path.join(demo_data, 'resnet50','resnet50_weights.buf'),\n",
    "    metadata: path.join(demo_data, 'resnet50','resnet50_metadata.json')\n",
    "  },\n",
    "  filesystem: true,\n",
    "  gpu: true\n",
    "})\n",
    "\n",
    "// var utils = require('./utils')\n",
    "import * as imagenetUtils from './imutils'"
   ]
  },
  {
   "cell_type": "markdown",
   "metadata": {},
   "source": [
    "OK we have just loaded an entire neural network, along with it's 100's hours of training into memory !!!\n",
    "\n",
    "To actualy try and push an image through it we need to load one and probably process it.\n",
    "\n",
    "we are using [sharp](https://github.com/lovell/sharp)"
   ]
  },
  {
   "cell_type": "code",
   "execution_count": null,
   "metadata": {},
   "outputs": [],
   "source": [
    "var sharp = require('sharp')\n",
    "\n",
    "var forward = async function () {\n",
    "    \n",
    "    var image;\n",
    "    try {\n",
    "        image = await sharp('images/hamster.jpg')\n",
    "            .resize(224,224)\n",
    "            .raw()\n",
    "            .toBuffer();        \n",
    "    }\n",
    "    catch (err) {\n",
    "        console.log(err.message)\n",
    "    }\n",
    "    \n",
    "    model.ready()\n",
    "      .then(() => {\n",
    "        var inputArray = new Float32Array(image)\n",
    "\n",
    "        var inputData = {\n",
    "          'input_1': inputArray\n",
    "        }\n",
    "\n",
    "        return model.predict(inputData);\n",
    "    })\n",
    "    .then(outputData => {\n",
    "        // console.log(outputData)\n",
    "        \n",
    "        var out = imagenetUtils.imagenetClassesTopK(outputData['fc1000'], 5)\n",
    "        console.log(out)\n",
    "    })\n",
    "    .catch(err => {\n",
    "        console.log(err)\n",
    "    })\n",
    "\n",
    "}\n",
    "\n",
    "forward();"
   ]
  },
  {
   "cell_type": "code",
   "execution_count": null,
   "metadata": {},
   "outputs": [],
   "source": []
  },
  {
   "cell_type": "code",
   "execution_count": null,
   "metadata": {},
   "outputs": [],
   "source": []
  }
 ],
 "metadata": {
  "anaconda-cloud": {},
  "kernelspec": {
   "display_name": "jp-Babel (Node.js)",
   "language": "babel",
   "name": "babel"
  },
  "language_info": {
   "file_extension": ".js",
   "mimetype": "application/javascript",
   "name": "javascript",
   "version": "8.5.0"
  }
 },
 "nbformat": 4,
 "nbformat_minor": 2
}
