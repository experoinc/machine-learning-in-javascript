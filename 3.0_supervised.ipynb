{
 "cells": [
  {
   "cell_type": "code",
   "execution_count": 1,
   "metadata": {
    "collapsed": false
   },
   "outputs": [
    {
     "data": {
      "text/plain": [
       "'use strict'"
      ]
     },
     "execution_count": 1,
     "metadata": {},
     "output_type": "execute_result"
    }
   ],
   "source": [
    "// boring imports\n",
    "var Plot = require('plotly-notebook-js');\n",
    "var {loadLabelledWine} = require('./utils');"
   ]
  },
  {
   "cell_type": "markdown",
   "metadata": {},
   "source": [
    "# Supervised Learning\n"
   ]
  },
  {
   "cell_type": "markdown",
   "metadata": {
    "collapsed": true
   },
   "source": [
    "![Supervised learning](images/slide_supervised.png)"
   ]
  },
  {
   "cell_type": "markdown",
   "metadata": {},
   "source": [
    "### Techniques availble in mljs\n",
    "\n",
    " - KNN - K Nearest Neighbors\n",
    " - **SVM - Support Vector Machines**\n",
    " - Naive Bayes\n",
    " - Partial Least Squares [regression]\n",
    " - Random Forests\n"
   ]
  },
  {
   "cell_type": "code",
   "execution_count": null,
   "metadata": {
    "collapsed": true
   },
   "outputs": [],
   "source": []
  },
  {
   "cell_type": "code",
   "execution_count": null,
   "metadata": {
    "collapsed": true
   },
   "outputs": [],
   "source": []
  },
  {
   "cell_type": "code",
   "execution_count": null,
   "metadata": {
    "collapsed": true
   },
   "outputs": [],
   "source": []
  },
  {
   "cell_type": "code",
   "execution_count": 2,
   "metadata": {
    "collapsed": false
   },
   "outputs": [
    {
     "name": "stdout",
     "output_type": "stream",
     "text": [
      "our dataset has 178 rows and  14 columns\n",
      "Alcohol | Malic Acid | Ash | Alcalinity of ash | Magnesium | Total phenols | Flavanoids | Nonflavanoid phenols | Proanthocyanins | Color intensity | Hue | OD280/OD315 of diluted wines | Proline | Class\n",
      "---------------------------\n",
      "14.23 | 1.71 | 2.43 | 15.6 | 127 | 2.8  | 3.06 | 0.28 | 2.29 | 5.64 | 1.04 | 3.92 | 1065 | 1\n",
      " 13.2 | 1.78 | 2.14 | 11.2 | 100 | 2.65 | 2.76 | 0.26 | 1.28 | 4.38 | 1.05 | 3.4  | 1050 | 1\n",
      "13.16 | 2.36 | 2.67 | 18.6 | 101 | 2.8  | 3.24 | 0.3  | 2.81 | 5.68 | 1.03 | 3.17 | 1185 | 1\n",
      "14.37 | 1.95 | 2.5  | 16.8 | 113 | 3.85 | 3.49 | 0.24 | 2.18 | 7.8  | 0.86 | 3.45 | 1480 | 1\n",
      "13.24 | 2.59 | 2.87 | 21   | 118 | 2.8  | 2.69 | 0.39 | 1.82 | 4.32 | 1.04 | 2.93 | 735  | 1\n"
     ]
    }
   ],
   "source": [
    "var {features, dataset} = loadLabelledWine({verbose: true});"
   ]
  },
  {
   "cell_type": "markdown",
   "metadata": {},
   "source": [
    "## Support Vector Machines\n"
   ]
  },
  {
   "cell_type": "markdown",
   "metadata": {},
   "source": [
    "##### SVM in mljs\n",
    "\n",
    " - docs for the SVM module are [here](https://mljs.github.io/svm/)\n",
    " - docs for the various kernel options are [here](https://github.com/mljs/kernel)\n"
   ]
  },
  {
   "cell_type": "code",
   "execution_count": 3,
   "metadata": {
    "collapsed": false
   },
   "outputs": [
    {
     "data": {
      "text/plain": [
       "'use strict'"
      ]
     },
     "execution_count": 3,
     "metadata": {},
     "output_type": "execute_result"
    }
   ],
   "source": [
    "var SVM = require('ml-svm');\n",
    "\n",
    "var options = {\n",
    "  C: 0.01,  // Regularisation Parameter\n",
    "  tol: 10e-4,  // numerical tolerance\n",
    "  maxPasses: 10,  // max number of times to iterate over alphas when no change\n",
    "  maxIterations: 10000,  // max number of iterations\n",
    "  kernel: 'rbf', // kernel to use see full like in kernel docs\n",
    "  kernelOptions: {\n",
    "    sigma: 0.5  // sets the gaussian width\n",
    "  }\n",
    "};\n",
    "\n",
    "var svm = new SVM(options);"
   ]
  },
  {
   "cell_type": "markdown",
   "metadata": {},
   "source": [
    "Next train the classifier, let's start with the original 2d feature vectors that we used in our first pass through kmeans.\n",
    "\n",
    "To do this, just call the `svm.train(inputs, labels)` with the input feature vectors and the true class labels."
   ]
  },
  {
   "cell_type": "code",
   "execution_count": 4,
   "metadata": {
    "collapsed": false
   },
   "outputs": [
    {
     "data": {
      "text/plain": [
       "'use strict'"
      ]
     },
     "execution_count": 4,
     "metadata": {},
     "output_type": "execute_result"
    }
   ],
   "source": [
    "var preprocess = require('ml-preprocess');\n",
    "\n"
   ]
  },
  {
   "cell_type": "code",
   "execution_count": 5,
   "metadata": {
    "collapsed": false
   },
   "outputs": [
    {
     "name": "stdout",
     "output_type": "stream",
     "text": [
      "[ -1, -1, -1, -1, -1, -1, -1, -1, -1, 0 ]\n",
      "[ -1, -1, -1, -1, -1, -1, -1, -1, -1, -1 ]\n"
     ]
    }
   ],
   "source": [
    "// prep our input data structures\n",
    "var inputs = dataset.map(d => [d[0], d[11]]);\n",
    "var labels = dataset.map(d => d[13] - 2); // needs label domain of {-1,1} rather then our labels of [0,1,2]\n",
    "\n",
    "// train the model\n",
    "svm.train(inputs, labels)\n",
    "\n",
    "console.log(labels.slice(50,60))\n",
    "console.log(inputs.slice(50,60).map(i => svm.predict(i)))"
   ]
  },
  {
   "cell_type": "markdown",
   "metadata": {},
   "source": [
    "#### Margins"
   ]
  },
  {
   "cell_type": "code",
   "execution_count": 6,
   "metadata": {
    "collapsed": false
   },
   "outputs": [
    {
     "name": "stdout",
     "output_type": "stream",
     "text": [
      "[ -1.0099802987647664,\n",
      "  -0.7583221166024475,\n",
      "  -0.7583221166024475,\n",
      "  -0.7583221166024475,\n",
      "  -0.7583221166024475 ]\n"
     ]
    }
   ],
   "source": [
    "console.log(svm.margin(inputs.slice(0,5)))"
   ]
  },
  {
   "cell_type": "markdown",
   "metadata": {},
   "source": [
    "#### Support Vectors"
   ]
  },
  {
   "cell_type": "code",
   "execution_count": 10,
   "metadata": {
    "collapsed": false
   },
   "outputs": [
    {
     "name": "stdout",
     "output_type": "stream",
     "text": [
      "[ 1, 2, 4, 5, 6 ]\n"
     ]
    }
   ],
   "source": [
    "console.log(svm.supportVectors().slice(0,5))"
   ]
  },
  {
   "cell_type": "markdown",
   "metadata": {},
   "source": [
    "#### Measure Accuracy\n",
    "\n",
    "Use the same confusion matrix approach as earlier to compute accuracy and f1-scores"
   ]
  },
  {
   "cell_type": "code",
   "execution_count": 13,
   "metadata": {
    "collapsed": false
   },
   "outputs": [
    {
     "data": {
      "text/plain": [
       "'use strict'"
      ]
     },
     "execution_count": 13,
     "metadata": {},
     "output_type": "execute_result"
    }
   ],
   "source": [
    "var ConfusionMatrix = require('ml-confusion-matrix');\n",
    "var actuals = labels;\n",
    "var predicted = inputs.map(i => svm.predict(i));\n",
    "\n",
    "var C = ConfusionMatrix.fromLabels(actuals, predicted)"
   ]
  },
  {
   "cell_type": "markdown",
   "metadata": {},
   "source": [
    "#### Discussion\n",
    "\n",
    " - How does you accuracy compare with our unsupervised approaches?\n",
    " - Is this too good to be tru and should you be suspicous?\n",
    " - Can you think of how to get a better accuracy measurement?"
   ]
  },
  {
   "cell_type": "code",
   "execution_count": null,
   "metadata": {
    "collapsed": true
   },
   "outputs": [],
   "source": []
  }
 ],
 "metadata": {
  "anaconda-cloud": {},
  "kernelspec": {
   "display_name": "jp-Babel (Node.js)",
   "language": "babel",
   "name": "babel"
  },
  "language_info": {
   "file_extension": ".js",
   "mimetype": "application/javascript",
   "name": "javascript",
   "version": "8.5.0"
  }
 },
 "nbformat": 4,
 "nbformat_minor": 2
}
