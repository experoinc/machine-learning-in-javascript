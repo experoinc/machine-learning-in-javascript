{
 "cells": [
  {
   "cell_type": "code",
   "execution_count": 1,
   "metadata": {
    "collapsed": false
   },
   "outputs": [
    {
     "data": {
      "text/plain": [
       "[Function]"
      ]
     },
     "execution_count": 1,
     "metadata": {},
     "output_type": "execute_result"
    }
   ],
   "source": [
    "// boring imports\n",
    "var Plot = require('plotly-notebook-js');\n",
    "var {loadLabelledWine} = require('./utils');\n",
    "\n",
    "// Added some utility functions for arrays\n",
    "// prep our input data structures\n",
    "Array.prototype.max = function() {\n",
    "  return Math.max.apply(null, this);\n",
    "};\n",
    "\n",
    "Array.prototype.min = function() {\n",
    "  return Math.min.apply(null, this);\n",
    "};"
   ]
  },
  {
   "cell_type": "markdown",
   "metadata": {},
   "source": [
    "# Supervised Learning\n"
   ]
  },
  {
   "cell_type": "markdown",
   "metadata": {
    "collapsed": true
   },
   "source": [
    "![Supervised learning](images/slide_supervised.png)"
   ]
  },
  {
   "cell_type": "markdown",
   "metadata": {},
   "source": [
    "### Techniques availble\n",
    "\n",
    " - KNN - K Nearest Neighbors\n",
    " - **SVM - Support Vector Machines**\n",
    " - Naive Bayes\n",
    " - Partial Least Squares [regression]\n",
    "\n"
   ]
  },
  {
   "cell_type": "code",
   "execution_count": 3,
   "metadata": {
    "collapsed": false
   },
   "outputs": [
    {
     "name": "stdout",
     "output_type": "stream",
     "text": [
      "our dataset has 178 rows and  14 columns\n",
      "Alcohol | Malic Acid | Ash | Alcalinity of ash | Magnesium | Total phenols | Flavanoids | Nonflavanoid phenols | Proanthocyanins | Color intensity | Hue | OD280/OD315 of diluted wines | Proline | Class\n",
      "---------------------------\n",
      "14.23 | 1.71 | 2.43 | 15.6 | 127 | 2.8  | 3.06 | 0.28 | 2.29 | 5.64 | 1.04 | 3.92 | 1065 | 1\n",
      " 13.2 | 1.78 | 2.14 | 11.2 | 100 | 2.65 | 2.76 | 0.26 | 1.28 | 4.38 | 1.05 | 3.4  | 1050 | 1\n",
      "13.16 | 2.36 | 2.67 | 18.6 | 101 | 2.8  | 3.24 | 0.3  | 2.81 | 5.68 | 1.03 | 3.17 | 1185 | 1\n",
      "14.37 | 1.95 | 2.5  | 16.8 | 113 | 3.85 | 3.49 | 0.24 | 2.18 | 7.8  | 0.86 | 3.45 | 1480 | 1\n",
      "13.24 | 2.59 | 2.87 | 21   | 118 | 2.8  | 2.69 | 0.39 | 1.82 | 4.32 | 1.04 | 2.93 | 735  | 1\n"
     ]
    }
   ],
   "source": [
    "var {features, dataset} = loadLabelledWine({verbose: true});"
   ]
  },
  {
   "cell_type": "markdown",
   "metadata": {},
   "source": [
    "## Support Vector Machines\n"
   ]
  },
  {
   "cell_type": "markdown",
   "metadata": {},
   "source": [
    "##### SVM in libsvm-js\n",
    "\n",
    " - docs for the SVM module are [here](https://github.com/mljs/libsvm)\n",
    " - docs for the various kernel options are [here](https://github.com/mljs/libsvm#SVM.KERNEL_TYPES)\n"
   ]
  },
  {
   "cell_type": "code",
   "execution_count": 6,
   "metadata": {
    "collapsed": false
   },
   "outputs": [
    {
     "data": {
      "text/plain": [
       "'use strict'"
      ]
     },
     "execution_count": 6,
     "metadata": {},
     "output_type": "execute_result"
    }
   ],
   "source": [
    "var SVM = require('libsvm-js/asm');\n",
    "\n",
    "var options = {\n",
    "    kernel: SVM.KERNEL_TYPES.RBF, // The type of kernel I want to use\n",
    "    type: SVM.SVM_TYPES.C_SVC,    // The type of SVM I want to run\n",
    "    gamma: 1,                     // RBF kernel gamma parameter\n",
    "    cost: 1                       // C_SVC cost parameter\n",
    "};\n",
    "\n",
    "var svm = new SVM(options);"
   ]
  },
  {
   "cell_type": "markdown",
   "metadata": {},
   "source": [
    "Next train the classifier, let's start with the original 2d feature vectors that we used in our first pass through kmeans.\n",
    "\n",
    "To do this, just call the `svm.train(inputs, labels)` with the input feature vectors and the true class labels."
   ]
  },
  {
   "cell_type": "code",
   "execution_count": 7,
   "metadata": {
    "collapsed": false
   },
   "outputs": [
    {
     "name": "stdout",
     "output_type": "stream",
     "text": [
      "*\n",
      "optimization finished, #iter = 60\n",
      "nu = 0.239281\n",
      "obj = -26.718387, rho = 0.289015\n",
      "nSV = 34, nBSV = 28\n",
      "*\n",
      "optimization finished, #iter = 50\n",
      "nu = 0.381209\n",
      "obj = -30.281812, rho = 0.114424\n",
      "nSV = 44, nBSV = 38\n",
      "*\n",
      "optimization finished, #iter = 52\n",
      "nu = 0.355454\n",
      "obj = -34.123841, rho = -0.271579\n",
      "nSV = 45, nBSV = 39\n",
      "Total nSV = 89\n",
      "[ 1, 1, 1, 1, 1, 1, 1, 1, 1, 2, 2, 2, 2, 2, 2, 2, 2, 2, 2, 2 ]\n",
      "[ 1, 1, 1, 1, 1, 1, 1, 1, 1, 2, 2, 2, 1, 2, 2, 2, 1, 2, 1, 2 ]\n"
     ]
    }
   ],
   "source": [
    "var inputs = dataset.map(d => [d[0], d[10]]);\n",
    "var labels = dataset.map(d => d[13]);\n",
    "\n",
    "svm.train(inputs, labels)\n",
    "\n",
    "console.log(labels.slice(50,70))\n",
    "console.log(svm.predict(inputs.slice(50,70)))"
   ]
  },
  {
   "cell_type": "markdown",
   "metadata": {},
   "source": [
    "#### Support Vectors"
   ]
  },
  {
   "cell_type": "code",
   "execution_count": 8,
   "metadata": {
    "collapsed": false
   },
   "outputs": [
    {
     "name": "stdout",
     "output_type": "stream",
     "text": [
      "[ 1, 2, 3, 4, 8 ]\n"
     ]
    }
   ],
   "source": [
    "console.log(svm.getSVIndices().slice(0,5))"
   ]
  },
  {
   "cell_type": "markdown",
   "metadata": {},
   "source": [
    "#### Measure Accuracy\n",
    "\n",
    "Use the same confusion matrix approach as earlier to compute accuracy and f1-scores"
   ]
  },
  {
   "cell_type": "code",
   "execution_count": 9,
   "metadata": {
    "collapsed": false
   },
   "outputs": [
    {
     "name": "stdout",
     "output_type": "stream",
     "text": [
      "0.8707865168539326\n"
     ]
    },
    {
     "data": {
      "text/html": [
       "<div class='plotly-plot'><div id='notebook-plot-1510329854605'></div><script>function plot(){Plotly.plot('notebook-plot-1510329854605',[{\"x\":[0,1,2],\"y\":[0,1,2],\"z\":[[55,2,2],[7,60,4],[4,4,40]],\"type\":\"heatmap\",\"showscale\":false,\"colorscale\":[[0,\"#3D9970\"],[100,\"#001f3f\"]]}],{\"xaxis\":{\"title\":\"predicted\",\"side\":\"top\"},\"yaxis\":{\"title\":\"actuals\",\"nticks\":6,\"autosize\":false,\"autorange\":\"reversed\"},\"annotations\":[{\"x\":0,\"y\":0,\"text\":55,\"font\":{\"family\":\"Arial\",\"size\":12,\"color\":\"white\"},\"showarrow\":false},{\"x\":1,\"y\":0,\"text\":2,\"font\":{\"family\":\"Arial\",\"size\":12,\"color\":\"white\"},\"showarrow\":false},{\"x\":2,\"y\":0,\"text\":2,\"font\":{\"family\":\"Arial\",\"size\":12,\"color\":\"white\"},\"showarrow\":false},{\"x\":0,\"y\":1,\"text\":7,\"font\":{\"family\":\"Arial\",\"size\":12,\"color\":\"white\"},\"showarrow\":false},{\"x\":1,\"y\":1,\"text\":60,\"font\":{\"family\":\"Arial\",\"size\":12,\"color\":\"white\"},\"showarrow\":false},{\"x\":2,\"y\":1,\"text\":4,\"font\":{\"family\":\"Arial\",\"size\":12,\"color\":\"white\"},\"showarrow\":false},{\"x\":0,\"y\":2,\"text\":4,\"font\":{\"family\":\"Arial\",\"size\":12,\"color\":\"white\"},\"showarrow\":false},{\"x\":1,\"y\":2,\"text\":4,\"font\":{\"family\":\"Arial\",\"size\":12,\"color\":\"white\"},\"showarrow\":false},{\"x\":2,\"y\":2,\"text\":40,\"font\":{\"family\":\"Arial\",\"size\":12,\"color\":\"white\"},\"showarrow\":false}],\"width\":500,\"height\":500});}if(window.Plotly){plot();}else if(!window.require){var head = document.head || document.getElementsByTagName('head')[0];var s = document.createElement('script');s.src = 'https://cdn.plot.ly/plotly-latest.min.js';s.type = 'text/javascript';s.async = false;s.onreadystatechange = s.onload = plot;head.appendChild(s);}else{require(['/notebooks/node_modules/plotly-notebook-js/build/plotly.min.js'], function(Plotly){window.Plotly = Plotly;plot();});}</script></div>"
      ]
     },
     "execution_count": 9,
     "metadata": {},
     "output_type": "execute_result"
    }
   ],
   "source": [
    "var ConfusionMatrix = require('ml-confusion-matrix');\n",
    "\n",
    "var actuals = labels;\n",
    "var predicted = svm.predict(inputs)\n",
    "\n",
    "var C = ConfusionMatrix.fromLabels(actuals, predicted)\n",
    "\n",
    "var M = C.getMatrix();\n",
    "var trace = { \n",
    "    x: [0,1,2],\n",
    "    y: [0,1,2],\n",
    "    z: M,\n",
    "    type: 'heatmap',\n",
    "    showscale: false,\n",
    "    colorscale:[[0, '#3D9970'], [100, '#001f3f']]\n",
    "};\n",
    "\n",
    "console.info(C.getAccuracy())\n",
    "var annotations = [];\n",
    "\n",
    "M.map((a,y) => {\n",
    "    a.map((b,x) => {\n",
    "        annotations.push(\n",
    "            {\n",
    "                x: x,\n",
    "                y: y,\n",
    "                text: M[y][x],\n",
    "                font: {\n",
    "                    family: 'Arial',\n",
    "                    size: 12,\n",
    "                    color: 'white'\n",
    "                  },\n",
    "                showarrow: false\n",
    "            }\n",
    "        )\n",
    "    })\n",
    "})\n",
    "\n",
    "var layout = { \n",
    "    xaxis: { title: \"predicted\", side: 'top' },\n",
    "    yaxis: { title: \"actuals\", nticks: 6, autosize: false, autorange: 'reversed' },\n",
    "    annotations,\n",
    "    width: 500, height: 500};\n",
    "\n",
    "var Plot = require('plotly-notebook-js');\n",
    "var table = require('text-table');\n",
    "\n",
    "$$html$$ = Plot.createPlot([trace], layout).render();"
   ]
  },
  {
   "cell_type": "markdown",
   "metadata": {},
   "source": [
    "#### Discussion\n",
    "\n",
    " - How does you accuracy compare with our unsupervised approaches?\n",
    " - Is this too good to be tru and should you be suspicous?\n",
    " - Can you think of how to get a better accuracy measurement?"
   ]
  },
  {
   "cell_type": "code",
   "execution_count": null,
   "metadata": {
    "collapsed": true
   },
   "outputs": [],
   "source": []
  },
  {
   "cell_type": "code",
   "execution_count": null,
   "metadata": {
    "collapsed": true
   },
   "outputs": [],
   "source": []
  }
 ],
 "metadata": {
  "anaconda-cloud": {},
  "kernelspec": {
   "display_name": "jp-Babel (Node.js)",
   "language": "babel",
   "name": "babel"
  },
  "language_info": {
   "file_extension": ".js",
   "mimetype": "application/javascript",
   "name": "javascript",
   "version": "8.5.0"
  }
 },
 "nbformat": 4,
 "nbformat_minor": 2
}
