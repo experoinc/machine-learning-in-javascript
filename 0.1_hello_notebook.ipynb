{
 "cells": [
  {
   "cell_type": "markdown",
   "metadata": {},
   "source": [
    "# Welcome to Interactive Javascript via Jupyter Notebooks\n",
    "\n",
    "This environment gives us the ability to mix code and docuementation and is great for exploratory work, developing scripts or in place of a REPL.\n",
    "\n",
    "Notebooks can be setup to use kernels in many differnt languages. Here we are using `ijavascript` which is a node based kernel. It's dependent on your node version so hopefully you are running (and installed `ijavascript`) on node v8.5.0 or greater."
   ]
  },
  {
   "cell_type": "markdown",
   "metadata": {},
   "source": [
    "# Tour\n",
    "\n",
    "First thing to do is take a tour of teh jupyter environement, checkout the menu system and toolbar ^^^"
   ]
  },
  {
   "cell_type": "markdown",
   "metadata": {},
   "source": [
    "In any code cell in the notebook we can execute javascript. Use the `run` control on the toolbar to execute a cell, or the various run commans in teh `Cell` menu. Click on the call below and run it! modify the code and run is again. \n",
    "\n",
    "You can spread calculations over multiple cells and scope behaves as though the notebook is a single script. Note this includes hoisting! so be careful with the sequence you layout your code to avoid confusion."
   ]
  },
  {
   "cell_type": "code",
   "execution_count": null,
   "metadata": {
    "collapsed": false
   },
   "outputs": [],
   "source": [
    "var msg = [\"Hello\", \"World\"].join(' ')\n",
    "console.log(msg)"
   ]
  },
  {
   "cell_type": "markdown",
   "metadata": {},
   "source": [
    "However, the version of node we are running on has [99% ES2015 support](http://node.green/#ES2015) and the notebook supports this quite well (see the issues and caveats though)"
   ]
  },
  {
   "cell_type": "code",
   "execution_count": null,
   "metadata": {
    "collapsed": false
   },
   "outputs": [],
   "source": [
    "console.log([\"Hello\", \"World\"].reduce((str, word) => `${str} ${word}`, \"\"))\n"
   ]
  },
  {
   "cell_type": "markdown",
   "metadata": {},
   "source": [
    "There is also some [ES2017 support](http://node.green/#ES2017) in node v8.5, so async / await is also available but remember `await` can only be called within an async function, meaning you'll still need to deal with a promise at the base level."
   ]
  },
  {
   "cell_type": "code",
   "execution_count": null,
   "metadata": {
    "collapsed": false
   },
   "outputs": [],
   "source": [
    "async function helloWorld() {\n",
    "    return \"Hello World\"\n",
    "}\n",
    "\n",
    "async function printIt() {\n",
    "    return await helloWorld();       \n",
    "}\n",
    "\n",
    "printIt().then(console.log)"
   ]
  },
  {
   "cell_type": "markdown",
   "metadata": {},
   "source": [
    "## Graphics\n",
    "\n",
    "Write objects to the page by assigning to a set of global variables the kernel provides:\n",
    "\n",
    " - `$$html$$`\n",
    " - `$$svg$$`\n",
    " - `$$png$$`\n",
    " - `$$jpeg$$`\n",
    " - `$$mime$$` => display anything that the underlying ipython knows the mime type for\n",
    " \n",
    " [the docs are here](http://n-riesco.github.io/ijavascript/doc/graphics.ipynb.html)\n",
    " \n",
    " Essentially this limits us to rendering 1 item per cell"
   ]
  },
  {
   "cell_type": "code",
   "execution_count": null,
   "metadata": {
    "collapsed": false
   },
   "outputs": [],
   "source": [
    "$$html$$ = '<div style=\"font-weight: 800;\">HELLO WORLD</div>'\n",
    "$$html$$ = '<iframe src=\"https://giphy.com/embed/I5xVnGJRHZZf2\" width=\"480\" height=\"433\" frameBorder=\"0\" class=\"giphy-embed\" allowFullScreen></iframe><p><a href=\"https://giphy.com/gifs/police-francisco-among-I5xVnGJRHZZf2\">via GIPHY</a></p>'"
   ]
  },
  {
   "cell_type": "code",
   "execution_count": null,
   "metadata": {
    "collapsed": false
   },
   "outputs": [],
   "source": [
    "$$svg$$ = '<svg width=\"179\" height=\"179\" viewBox=\"0 0 1792 1792\" xmlns=\"http://www.w3.org/2000/svg\"><path d=\"M640 1008v-224q0-16-16-16h-96q-16 0-16 16v224q0 16 16 16h96q16 0 16-16zm512 0v-224q0-16-16-16h-96q-16 0-16 16v224q0 16 16 16h96q16 0 16-16zm512 32v752h-640v-320q0-80-56-136t-136-56-136 56-56 136v320h-640v-752q0-16 16-16h96q16 0 16 16v112h128v-624q0-16 16-16h96q16 0 16 16v112h128v-112q0-16 16-16h96q16 0 16 16v112h128v-112q0-6 2.5-9.5t8.5-5 9.5-2 11.5 0 9 .5v-391q-32-15-32-50 0-23 16.5-39t38.5-16 38.5 16 16.5 39q0 35-32 50v17q45-10 83-10 21 0 59.5 7.5t54.5 7.5q17 0 47-7.5t37-7.5q16 0 16 16v210q0 15-35 21.5t-62 6.5q-18 0-54.5-7.5t-55.5-7.5q-40 0-90 12v133q1 0 9-.5t11.5 0 9.5 2 8.5 5 2.5 9.5v112h128v-112q0-16 16-16h96q16 0 16 16v112h128v-112q0-16 16-16h96q16 0 16 16v624h128v-112q0-16 16-16h96q16 0 16 16z\"/></svg>'"
   ]
  },
  {
   "cell_type": "code",
   "execution_count": null,
   "metadata": {
    "collapsed": false
   },
   "outputs": [],
   "source": [
    "import fs from \"fs\";\n",
    "$$png$$ = fs.readFileSync(\"images/expero.png\").toString(\"base64\")"
   ]
  },
  {
   "cell_type": "code",
   "execution_count": null,
   "metadata": {
    "collapsed": false
   },
   "outputs": [],
   "source": [
    "import fs from \"fs\";\n",
    "$$jpeg$$ = fs.readFileSync(\"images/expero.jpg\").toString(\"base64\")"
   ]
  },
  {
   "cell_type": "code",
   "execution_count": null,
   "metadata": {
    "collapsed": false
   },
   "outputs": [],
   "source": [
    "$$mime$$ = {\"text/html\": \"<div style='background-color:olive;width:50px;height:50px'></div>\"};"
   ]
  },
  {
   "cell_type": "markdown",
   "metadata": {
    "collapsed": true
   },
   "source": [
    "- import statements are scoped to the cell\n",
    "- var x = require('x') follow var scoping rules across the notebook"
   ]
  },
  {
   "cell_type": "code",
   "execution_count": null,
   "metadata": {
    "collapsed": false
   },
   "outputs": [],
   "source": [
    "import Plot from 'plotly-notebook-js';\n",
    "var x = [-3,-2,-1,0,1,2,3,4,5,6,7,8,9];\n",
    "var myPlot = Plot.createPlot([{ x, y: x.map(x => x*x) }], { title: 'Plotly in Jupyter!' });\n",
    "\n",
    "$$html$$ = myPlot.render();"
   ]
  },
  {
   "cell_type": "code",
   "execution_count": null,
   "metadata": {
    "collapsed": true
   },
   "outputs": [],
   "source": []
  },
  {
   "cell_type": "code",
   "execution_count": null,
   "metadata": {
    "collapsed": true
   },
   "outputs": [],
   "source": []
  },
  {
   "cell_type": "markdown",
   "metadata": {},
   "source": [
    "## Caveats & Issues\n",
    "\n",
    "keywords `const` & `let` don't play well when executing cells multiple times, we get already defined errors until notebook is restarted. a bug :( we need to stick to `var`. try in the following cell, the only way to run mulitple times is to use `var`"
   ]
  },
  {
   "cell_type": "code",
   "execution_count": null,
   "metadata": {
    "collapsed": false
   },
   "outputs": [],
   "source": [
    "const doesntPlay = 0;\n",
    "let doesntPlayEither = 0;"
   ]
  },
  {
   "cell_type": "code",
   "execution_count": null,
   "metadata": {
    "collapsed": true
   },
   "outputs": [],
   "source": []
  },
  {
   "cell_type": "code",
   "execution_count": null,
   "metadata": {
    "collapsed": true
   },
   "outputs": [],
   "source": []
  },
  {
   "cell_type": "code",
   "execution_count": null,
   "metadata": {
    "collapsed": true
   },
   "outputs": [],
   "source": []
  }
 ],
 "metadata": {
  "anaconda-cloud": {},
  "kernelspec": {
   "display_name": "jp-Babel (Node.js)",
   "language": "babel",
   "name": "babel"
  },
  "language_info": {
   "file_extension": ".js",
   "mimetype": "application/javascript",
   "name": "javascript",
   "version": "8.5.0"
  }
 },
 "nbformat": 4,
 "nbformat_minor": 2
}
