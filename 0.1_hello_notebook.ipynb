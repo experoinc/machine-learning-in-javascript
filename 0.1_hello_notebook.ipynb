{
 "cells": [
  {
   "cell_type": "markdown",
   "metadata": {},
   "source": [
    "# Welcome to Interactive Javascript via Jupyter Notebooks\n",
    "\n",
    "This environment gives us the ability to mix code and docuementation and isgreate for exploratory work, developing scripts or in place of a REPL.\n",
    "\n",
    "Notebooks can be setup to use kernels in many differnt languages. Here we are using `ijavascript` which is a node based kernel. It's dependent on your node version so hopefully you are running (and installed `ijavascript`) on node v8.5.0 or greater."
   ]
  },
  {
   "cell_type": "markdown",
   "metadata": {},
   "source": [
    "# Tour\n",
    "\n",
    "First thing to do is take a tour of teh jupyter environement, checkout the menu system and toolbar ^^^"
   ]
  },
  {
   "cell_type": "markdown",
   "metadata": {},
   "source": [
    "In any code cell in the notebook we can execute javascript. Use the `run` control on the toolbar to execute a cell, or the various run commans in teh `Cell` menu. Click on the call below and run it! modify the code and run is again. \n",
    "\n",
    "You can spread calculations over multiple cells and scope behaves as though the notebook is a single script. Note this includes hoisting! so be careful with the sequence you layout your code to avoid confusion."
   ]
  },
  {
   "cell_type": "code",
   "execution_count": 1,
   "metadata": {
    "collapsed": false
   },
   "outputs": [
    {
     "name": "stdout",
     "output_type": "stream",
     "text": [
      "Hello World\n"
     ]
    }
   ],
   "source": [
    "var msg = [\"Hello\", \"World\"].join(' ')\n",
    "console.log(msg)"
   ]
  },
  {
   "cell_type": "markdown",
   "metadata": {},
   "source": [
    "However, the version of node we are running on has [99% ES2015 support](http://node.green/#ES2015) and the notebook supports is quite well (see the issues and caveats though)"
   ]
  },
  {
   "cell_type": "code",
   "execution_count": 2,
   "metadata": {
    "collapsed": false
   },
   "outputs": [
    {
     "name": "stdout",
     "output_type": "stream",
     "text": [
      " Hello World\n"
     ]
    }
   ],
   "source": [
    "console.log([\"Hello\", \"World\"].reduce((str, word) => `${str} ${word}`, \"\"))\n"
   ]
  },
  {
   "cell_type": "markdown",
   "metadata": {},
   "source": [
    "There is also some [ES2017 support](http://node.green/#ES2017) in node v8.5, so async / await is also available but remember `await` can only be called within an async function, meaning you'll still need to deal with a promise at the base level."
   ]
  },
  {
   "cell_type": "code",
   "execution_count": 3,
   "metadata": {
    "collapsed": false
   },
   "outputs": [
    {
     "data": {
      "text/plain": [
       "Promise { <pending> }"
      ]
     },
     "execution_count": 3,
     "metadata": {},
     "output_type": "execute_result"
    },
    {
     "name": "stdout",
     "output_type": "stream",
     "text": [
      "Hello World\n"
     ]
    }
   ],
   "source": [
    "async function helloWorld() {\n",
    "    return \"Hello World\"\n",
    "}\n",
    "\n",
    "async function printIt() {\n",
    "    return await helloWorld();       \n",
    "}\n",
    "\n",
    "printIt().then(console.log)"
   ]
  },
  {
   "cell_type": "markdown",
   "metadata": {},
   "source": [
    "## Graphics\n",
    "\n",
    "Write objects to the page by assigning to a set of global variables the kernel provides:\n",
    "\n",
    " - `$$html$$`\n",
    " - `$$svg$$`\n",
    " - `$$png$$`\n",
    " - `$$jpeg$$`\n",
    " - `$$mime$$` => display anything that the underlying ipython knows the mime type for\n",
    " \n",
    " [the docs are here](http://n-riesco.github.io/ijavascript/doc/graphics.ipynb.html)\n",
    " \n",
    " Essentially this limits us to rendering 1 item per cell"
   ]
  },
  {
   "cell_type": "code",
   "execution_count": 4,
   "metadata": {
    "collapsed": false
   },
   "outputs": [
    {
     "data": {
      "text/html": [
       "<div style=\"font-weight: 800;\">HELLO WORLD</div>"
      ]
     },
     "execution_count": 4,
     "metadata": {},
     "output_type": "execute_result"
    }
   ],
   "source": [
    "$$html$$ = '<div style=\"font-weight: 800;\">HELLO WORLD</div>'\n",
    "$$html$$ = '<iframe src=\"https://giphy.com/embed/I5xVnGJRHZZf2\" width=\"480\" height=\"433\" frameBorder=\"0\" class=\"giphy-embed\" allowFullScreen></iframe><p><a href=\"https://giphy.com/gifs/police-francisco-among-I5xVnGJRHZZf2\">via GIPHY</a></p>'"
   ]
  },
  {
   "cell_type": "code",
   "execution_count": 5,
   "metadata": {
    "collapsed": false
   },
   "outputs": [
    {
     "data": {
      "image/svg+xml": [
       "<svg width=\"179\" height=\"179\" viewBox=\"0 0 1792 1792\" xmlns=\"http://www.w3.org/2000/svg\"><path d=\"M640 1008v-224q0-16-16-16h-96q-16 0-16 16v224q0 16 16 16h96q16 0 16-16zm512 0v-224q0-16-16-16h-96q-16 0-16 16v224q0 16 16 16h96q16 0 16-16zm512 32v752h-640v-320q0-80-56-136t-136-56-136 56-56 136v320h-640v-752q0-16 16-16h96q16 0 16 16v112h128v-624q0-16 16-16h96q16 0 16 16v112h128v-112q0-16 16-16h96q16 0 16 16v112h128v-112q0-6 2.5-9.5t8.5-5 9.5-2 11.5 0 9 .5v-391q-32-15-32-50 0-23 16.5-39t38.5-16 38.5 16 16.5 39q0 35-32 50v17q45-10 83-10 21 0 59.5 7.5t54.5 7.5q17 0 47-7.5t37-7.5q16 0 16 16v210q0 15-35 21.5t-62 6.5q-18 0-54.5-7.5t-55.5-7.5q-40 0-90 12v133q1 0 9-.5t11.5 0 9.5 2 8.5 5 2.5 9.5v112h128v-112q0-16 16-16h96q16 0 16 16v112h128v-112q0-16 16-16h96q16 0 16 16v624h128v-112q0-16 16-16h96q16 0 16 16z\"/></svg>"
      ]
     },
     "execution_count": 5,
     "metadata": {},
     "output_type": "execute_result"
    }
   ],
   "source": [
    "$$svg$$ = '<svg width=\"179\" height=\"179\" viewBox=\"0 0 1792 1792\" xmlns=\"http://www.w3.org/2000/svg\"><path d=\"M640 1008v-224q0-16-16-16h-96q-16 0-16 16v224q0 16 16 16h96q16 0 16-16zm512 0v-224q0-16-16-16h-96q-16 0-16 16v224q0 16 16 16h96q16 0 16-16zm512 32v752h-640v-320q0-80-56-136t-136-56-136 56-56 136v320h-640v-752q0-16 16-16h96q16 0 16 16v112h128v-624q0-16 16-16h96q16 0 16 16v112h128v-112q0-16 16-16h96q16 0 16 16v112h128v-112q0-6 2.5-9.5t8.5-5 9.5-2 11.5 0 9 .5v-391q-32-15-32-50 0-23 16.5-39t38.5-16 38.5 16 16.5 39q0 35-32 50v17q45-10 83-10 21 0 59.5 7.5t54.5 7.5q17 0 47-7.5t37-7.5q16 0 16 16v210q0 15-35 21.5t-62 6.5q-18 0-54.5-7.5t-55.5-7.5q-40 0-90 12v133q1 0 9-.5t11.5 0 9.5 2 8.5 5 2.5 9.5v112h128v-112q0-16 16-16h96q16 0 16 16v112h128v-112q0-16 16-16h96q16 0 16 16v624h128v-112q0-16 16-16h96q16 0 16 16z\"/></svg>'"
   ]
  },
  {
   "cell_type": "code",
   "execution_count": 6,
   "metadata": {
    "collapsed": false
   },
   "outputs": [
    {
     "data": {
      "image/png": "[encoded data removed]"
     },
     "execution_count": 6,
     "metadata": {},
     "output_type": "execute_result"
    }
   ],
   "source": [
    "import fs from \"fs\";\n",
    "$$png$$ = fs.readFileSync(\"images/expero.png\").toString(\"base64\")"
   ]
  },
  {
   "cell_type": "code",
   "execution_count": 7,
   "metadata": {
    "collapsed": false
   },
   "outputs": [
    {
     "data": {
      "image/jpeg": "[encoded data removed]"
     },
     "execution_count": 7,
     "metadata": {},
     "output_type": "execute_result"
    }
   ],
   "source": [
    "import fs from \"fs\";\n",
    "$$jpeg$$ = fs.readFileSync(\"images/expero.jpg\").toString(\"base64\")"
   ]
  },
  {
   "cell_type": "code",
   "execution_count": 8,
   "metadata": {
    "collapsed": false
   },
   "outputs": [
    {
     "data": {
      "text/html": [
       "<div style='background-color:olive;width:50px;height:50px'></div>"
      ]
     },
     "execution_count": 8,
     "metadata": {},
     "output_type": "execute_result"
    }
   ],
   "source": [
    "$$mime$$ = {\"text/html\": \"<div style='background-color:olive;width:50px;height:50px'></div>\"};"
   ]
  },
  {
   "cell_type": "markdown",
   "metadata": {
    "collapsed": true
   },
   "source": [
    "- import statements are scoped to the cell\n",
    "- var x = require('x') follow var scoping rules across the notebook"
   ]
  },
  {
   "cell_type": "code",
   "execution_count": 9,
   "metadata": {
    "collapsed": false
   },
   "outputs": [
    {
     "data": {
      "text/html": [
       "<div class='plotly-plot'><div id='notebook-plot-1510327737284'></div><script>function plot(){Plotly.plot('notebook-plot-1510327737284',[{\"x\":[-3,-2,-1,0,1,2,3,4,5,6,7,8,9],\"y\":[9,4,1,0,1,4,9,16,25,36,49,64,81]}],{\"title\":\"Plotly in Jupyter!\"});}if(window.Plotly){plot();}else if(!window.require){var head = document.head || document.getElementsByTagName('head')[0];var s = document.createElement('script');s.src = 'https://cdn.plot.ly/plotly-latest.min.js';s.type = 'text/javascript';s.async = false;s.onreadystatechange = s.onload = plot;head.appendChild(s);}else{require(['/notebooks/node_modules/plotly-notebook-js/build/plotly.min.js'], function(Plotly){window.Plotly = Plotly;plot();});}</script></div>"
      ]
     },
     "execution_count": 9,
     "metadata": {},
     "output_type": "execute_result"
    }
   ],
   "source": [
    "// import Plot from 'plotly-notebook-js';\n",
    "var Plot = require('plotly-notebook-js');\n",
    "var x = [-3,-2,-1,0,1,2,3,4,5,6,7,8,9];\n",
    "var myPlot = Plot.createPlot([{ x, y: x.map(x => x*x) }], { title: 'Plotly in Jupyter!' });\n",
    "\n",
    "$$html$$ = myPlot.render();"
   ]
  },
  {
   "cell_type": "markdown",
   "metadata": {},
   "source": [
    "## Caveats & Issues\n",
    "\n",
    "`const` & `let` don't play well when executing cells multiple times, we get already defined errors until notebook is restarted. a bug :( we need to stick to `var`. try in the following cell, the only way to un mulitple times is to use `var`"
   ]
  },
  {
   "cell_type": "code",
   "execution_count": 11,
   "metadata": {
    "collapsed": false
   },
   "outputs": [
    {
     "ename": "SyntaxError",
     "evalue": "Identifier 'doesntPlay' has already been declared",
     "output_type": "error",
     "traceback": [
      "evalmachine.<anonymous>:1",
      "const doesntPlay = 0;",
      "^",
      "",
      "SyntaxError: Identifier 'doesntPlay' has already been declared",
      "    at evalmachine.<anonymous>:1:1",
      "    at ContextifyScript.Script.runInThisContext (vm.js:44:33)",
      "    at Object.runInThisContext (vm.js:116:38)",
      "    at run ([eval]:617:19)",
      "    at onRunRequest ([eval]:388:22)",
      "    at onMessage ([eval]:356:17)",
      "    at emitTwo (events.js:125:13)",
      "    at process.emit (events.js:213:7)",
      "    at emit (internal/child_process.js:774:12)",
      "    at _combinedTickCallback (internal/process/next_tick.js:141:11)"
     ]
    }
   ],
   "source": [
    "const doesntPlay = 0;\n",
    "let doesntPlayEither = 0;"
   ]
  }
 ],
 "metadata": {
  "anaconda-cloud": {},
  "kernelspec": {
   "display_name": "jp-Babel (Node.js)",
   "language": "babel",
   "name": "babel"
  },
  "language_info": {
   "file_extension": ".js",
   "mimetype": "application/javascript",
   "name": "javascript",
   "version": "8.5.0"
  }
 },
 "nbformat": 4,
 "nbformat_minor": 2
}
