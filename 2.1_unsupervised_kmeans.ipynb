{
 "cells": [
  {
   "cell_type": "code",
   "execution_count": null,
   "metadata": {
    "collapsed": false,
    "nbpresent": {
     "id": "e462b3b0-f88e-4099-90ee-901df0654a3e"
    }
   },
   "outputs": [],
   "source": [
    "// boring imports\n",
    "var {loadUnlabelledWine, grid2, plotClustersWithLabels} = require('./utils')\n",
    "var Plot = require('plotly-notebook-js');\n",
    "var table = require('text-table');"
   ]
  },
  {
   "cell_type": "markdown",
   "metadata": {},
   "source": [
    "# Unsupervised Learning\n",
    "\n",
    "![Unsupervised Learning slide](images/slide_unsupervised.png)\n"
   ]
  },
  {
   "cell_type": "markdown",
   "metadata": {
    "nbpresent": {
     "id": "3059fd90-8176-4b05-b339-e531e4199fb6"
    }
   },
   "source": [
    "# K Means Clustering\n",
    "\n",
    "\n",
    "![means algorihtm](images/slide_kmeans.png)"
   ]
  },
  {
   "cell_type": "markdown",
   "metadata": {
    "nbpresent": {
     "id": "ba8551b1-dbe2-452b-bf0b-bbc686671ae4"
    }
   },
   "source": [
    "### Setup\n",
    "\n",
    "Load our dataset and pick out the two features of interest, the ones we were looking at on the previous page"
   ]
  },
  {
   "cell_type": "code",
   "execution_count": 14,
   "metadata": {
    "collapsed": false,
    "nbpresent": {
     "id": "95d0c075-1026-415b-97c4-43666b99424c"
    }
   },
   "outputs": [
    {
     "name": "stdout",
     "output_type": "stream",
     "text": [
      "our dataset has 178 rows and  13 columns\n",
      "Alcohol | Malic Acid | Ash | Alcalinity of ash | Magnesium | Total phenols | Flavanoids | Nonflavanoid phenols | Proanthocyanins | Color intensity | Hue | OD280/OD315 of diluted wines | Proline | Class\n",
      "---------------------------\n",
      "14.23 | 1.71 | 2.43 | 15.6 | 127 | 2.8  | 3.06 | 0.28 | 2.29 | 5.64 | 1.04 | 3.92 | 1065\n",
      " 13.2 | 1.78 | 2.14 | 11.2 | 100 | 2.65 | 2.76 | 0.26 | 1.28 | 4.38 | 1.05 | 3.4  | 1050\n",
      "13.16 | 2.36 | 2.67 | 18.6 | 101 | 2.8  | 3.24 | 0.3  | 2.81 | 5.68 | 1.03 | 3.17 | 1185\n",
      "14.37 | 1.95 | 2.5  | 16.8 | 113 | 3.85 | 3.49 | 0.24 | 2.18 | 7.8  | 0.86 | 3.45 | 1480\n",
      "13.24 | 2.59 | 2.87 | 21   | 118 | 2.8  | 2.69 | 0.39 | 1.82 | 4.32 | 1.04 | 2.93 | 735\n"
     ]
    }
   ],
   "source": [
    "var {features, dataset} = loadUnlabelledWine({ verbose: true });"
   ]
  },
  {
   "cell_type": "code",
   "execution_count": 15,
   "metadata": {
    "collapsed": false,
    "nbpresent": {
     "id": "ee7b4161-ca1f-47e6-a88c-c2a431c8b1c0"
    }
   },
   "outputs": [],
   "source": [
    "var input = dataset.map(d => [d[0], d[11]]);"
   ]
  },
  {
   "cell_type": "markdown",
   "metadata": {
    "nbpresent": {
     "id": "35953a86-a704-4db8-8ce4-f007cb2f309b"
    }
   },
   "source": [
    "### Clustering\n",
    "\n",
    "Now run the algorithm, check out the docs [here](https://mljs.github.io/kmeans/)"
   ]
  },
  {
   "cell_type": "code",
   "execution_count": 16,
   "metadata": {
    "collapsed": false,
    "nbpresent": {
     "id": "e5761634-7895-4e47-bc87-2ecc15ec675f"
    }
   },
   "outputs": [
    {
     "name": "stdout",
     "output_type": "stream",
     "text": [
      "Converged after 8 iterations\n"
     ]
    }
   ],
   "source": [
    "var KMEANS = require('ml-kmeans');\n",
    "\n",
    "var K = 3;\n",
    "\n",
    "var options = {\n",
    "    maxIterations: 100,\n",
    "    tolerance: 1e-6,\n",
    "    withIterations: false,\n",
    "    // distanceFunction: () => {}, // can specify our own distance but may not converge\n",
    "    initialization: 'random'\n",
    "}\n",
    "\n",
    "var ans = KMEANS(input, K, options)\n",
    "\n",
    "var {converged, clusters, centroids, iterations} = ans;\n",
    "\n",
    "if (converged) {\n",
    "    console.log(\"Converged after\", iterations, \"iterations\")\n",
    "}\n",
    "else {\n",
    "    console.log(\"Did not converge after\", iterations, \"iterations\")\n",
    "}"
   ]
  },
  {
   "cell_type": "markdown",
   "metadata": {
    "collapsed": true,
    "nbpresent": {
     "id": "4f626a26-718a-4aad-a20a-5327bc6b6702"
    }
   },
   "source": [
    "### Plot the results\n",
    "\n",
    "We now have class labels in `ans.clusters` corresponding to each feature vector in our `input` array. Let's scatterplot the results but color these by class label.\n",
    "\n",
    "#### TODO: now add the class centroids to the plot with larger markers"
   ]
  },
  {
   "cell_type": "code",
   "execution_count": 17,
   "metadata": {
    "collapsed": false,
    "nbpresent": {
     "id": "ee539d2d-10e7-4a85-94e6-30818937ed4e"
    }
   },
   "outputs": [
    {
     "data": {
      "text/html": [
       "<div class='plotly-plot'><div id='notebook-plot-1510333940219'></div><script>function plot(){Plotly.plot('notebook-plot-1510333940219',[{\"x\":[14.23,13.2,13.16,14.37,13.24,14.2,14.39,14.06,14.83,13.86,14.1,14.12,13.75,14.75,14.38,13.63,14.3,13.83,14.19,13.64,14.06,12.93,13.71,12.85,13.5,13.05,13.39,13.3,13.87,14.02,13.73,13.58,13.68,13.76,13.51,13.48,13.28,13.05,13.07,14.22,13.56,13.41,13.88,13.24,13.05,14.21,14.38,13.9,14.1,13.94,13.05,13.83,13.82,13.77,13.74,13.56,14.22,13.29,13.72,12.37,12.33,12.64,13.67,12.37,12.17,12.37,13.11,12.37,13.34,12.21,12.29,13.86,13.49,12.99,11.96,11.66,13.03,11.84,12.33,12.7,12,12.72,12.08,13.05,11.84,12.67,12.16,11.65,11.64,12.08,12.08,12,12.69,12.29,11.62,12.47,11.81,12.29,12.37,12.29,12.08,12.6,12.34,11.82,12.51,12.42,12.25,12.72,12.22,11.61,11.46,12.52,11.76,11.41,12.08,11.03,11.82,12.42,12.77,12,11.45,11.56,12.42,13.05,11.87,12.07,12.43,11.79,12.37,12.04,12.86,12.88,12.81,12.7,12.51,12.6,12.25,12.53,13.49,12.84,12.93,13.36,13.52,13.62,12.25,13.16,13.88,12.87,13.32,13.08,13.5,12.79,13.11,13.23,12.58,13.17,13.84,12.45,14.34,13.48,12.36,13.69,12.85,12.96,13.78,13.73,13.45,12.82,13.58,13.4,12.2,12.77,14.16,13.71,13.4,13.27,13.17,14.13],\"y\":[3.92,3.4,3.17,3.45,2.93,2.85,3.58,3.58,2.85,3.55,3.17,2.82,2.9,2.73,3,2.88,2.65,2.57,2.82,3.36,3.71,3.52,4,3.63,3.82,3.2,3.22,2.77,3.4,3.59,2.71,2.88,2.87,3,2.87,3.47,2.78,2.51,2.69,3.53,3.38,3,3.56,3,3.35,3.33,3.44,3.33,2.75,3.1,2.91,3.37,3.26,2.93,3.2,3.03,3.31,2.84,2.87,1.82,1.67,1.59,2.46,2.87,2.23,2.3,3.18,3.48,1.93,3.07,1.82,3.16,2.78,3.5,3.13,2.14,2.48,2.52,2.31,3.13,3.12,3.14,2.72,2.01,3.08,3.16,2.26,3.21,2.75,3.21,2.27,2.65,2.06,3.3,2.96,2.63,2.26,2.74,2.77,2.83,2.96,2.77,3.38,2.44,3.57,3.3,3.17,2.42,3.02,3.26,2.81,2.78,2.5,2.31,3.19,2.87,3.33,2.96,2.12,3.05,3.39,3.69,3.12,3.1,3.64,3.28,2.84,2.44,2.78,2.57,1.29,1.42,1.36,1.29,1.51,1.58,1.27,1.69,1.82,2.15,2.31,2.47,2.06,2.05,2,1.68,1.33,1.86,1.62,1.33,1.3,1.47,1.33,1.51,1.55,1.48,1.64,1.73,1.96,1.78,1.58,1.82,2.11,1.75,1.68,1.75,1.56,1.75,1.8,1.92,1.83,1.63,1.71,1.74,1.56,1.56,1.62,1.6],\"mode\":\"markers\",\"marker\":{\"color\":[2,2,2,2,2,2,2,2,2,2,2,2,2,2,2,2,2,2,2,2,2,2,2,2,2,2,2,2,2,2,2,2,2,2,2,2,2,0,2,2,2,2,2,2,2,2,2,2,2,2,2,2,2,2,2,2,2,2,2,0,0,0,2,1,1,1,2,1,0,1,0,2,2,2,1,1,0,1,1,1,1,1,1,0,1,1,1,1,1,1,1,1,0,1,1,1,1,1,1,1,1,1,1,1,1,1,1,0,1,1,1,1,1,1,1,1,1,1,0,1,1,1,1,2,1,1,1,1,1,1,0,0,0,0,0,0,0,0,0,0,0,2,0,0,0,0,0,0,0,0,0,0,0,0,0,0,0,0,0,0,0,0,0,0,0,0,0,0,0,0,0,0,0,0,0,0,0,0],\"size\":8,\"colorbar\":{\"xpad\":100}},\"type\":\"scatter\"},{\"x\":[13.074137931034484],\"y\":[1.7374137931034477],\"mode\":\"markers\",\"marker\":{\"size\":20,\"line\":{\"width\":2,\"color\":\"#000\"},\"opacity\":1},\"opacity\":0.3,\"type\":\"scatter\"},{\"x\":[12.079818181818181],\"y\":[2.9029090909090898],\"mode\":\"markers\",\"marker\":{\"size\":20,\"line\":{\"width\":2,\"color\":\"#000\"},\"opacity\":1},\"opacity\":0.3,\"type\":\"scatter\"},{\"x\":[13.714153846153845],\"y\":[3.1453846153846152],\"mode\":\"markers\",\"marker\":{\"size\":20,\"line\":{\"width\":2,\"color\":\"#000\"},\"opacity\":1},\"opacity\":0.3,\"type\":\"scatter\"}],{\"width\":800,\"height\":700,\"xaxis\":{\"title\":\"Alcohol\"},\"yaxis\":{\"title\":\"OD280/OD315 of diluted wines\"}});}if(window.Plotly){plot();}else if(!window.require){var head = document.head || document.getElementsByTagName('head')[0];var s = document.createElement('script');s.src = 'https://cdn.plot.ly/plotly-latest.min.js';s.type = 'text/javascript';s.async = false;s.onreadystatechange = s.onload = plot;head.appendChild(s);}else{require(['/notebooks/node_modules/plotly-notebook-js/build/plotly.min.js'], function(Plotly){window.Plotly = Plotly;plot();});}</script></div>"
      ]
     },
     "execution_count": 17,
     "metadata": {},
     "output_type": "execute_result"
    }
   ],
   "source": [
    "var trace = { \n",
    "    x: input.map(d => d[0]),\n",
    "    y: input.map(d => d[1]),\n",
    "    mode: 'markers',\n",
    "    marker: { \n",
    "        color: clusters, // <- here are our results\n",
    "        size: 8,\n",
    "        colorbar: {\n",
    "            xpad: 100\n",
    "        }\n",
    "    },\n",
    "    type: 'scatter'\n",
    "};\n",
    "\n",
    "var centroidsTraces = centroids.map(d => ({\n",
    "    x: [d.centroid[0]], y: [d.centroid[1]],\n",
    "    mode: 'markers',\n",
    "    marker: { \n",
    "        size: 20,\n",
    "        line: { width: 2, color: '#000' },\n",
    "        opacity: 1\n",
    "    },\n",
    "    opacity: 0.3,\n",
    "    type: 'scatter',\n",
    "}));\n",
    "\n",
    "var layout = { width: 800, height: 700, xaxis: { title: features[0] }, yaxis: { title: features[11] }};\n",
    "\n",
    "$$html$$ = Plot.createPlot([trace, ...centroidsTraces], layout).render()"
   ]
  },
  {
   "cell_type": "markdown",
   "metadata": {
    "collapsed": true,
    "nbpresent": {
     "id": "a78a9c7c-be95-4b2e-a6bc-d670cf7ffae1"
    }
   },
   "source": [
    "### Plot the feature space partitioning\n",
    "\n",
    "Now let's look at the decision boundaries in the feature space. \n",
    "\n",
    "Kmeans already labelled our training set for us but if we need to determine the class of a datapoint that we have not seen yet when we need ot use a classifer with the `centroids` that kmeans gave us.\n",
    "\n",
    "This is known as a `forward pass`. KMeans has used the training set to *learn* the k class centroids, but to *generaise* to data we have not seen before we need to run a classifier.\n",
    "\n",
    "Luckily we just created one in the last notebook. Either copy the function definition in here or create a new `.js` file, and `require` that (if you do, remember to restart the kernel otherwise the notebook won't see the new file).\n"
   ]
  },
  {
   "cell_type": "code",
   "execution_count": 6,
   "metadata": {
    "collapsed": false,
    "nbpresent": {
     "id": "e8a81df5-7c2b-4c64-822c-a6b41adb62fb"
    }
   },
   "outputs": [
    {
     "data": {
      "text/html": [
       "<div class='plotly-plot'><div id='notebook-plot-1510329235809'></div><script>function plot(){Plotly.plot('notebook-plot-1510329235809',[{\"z\":[[null,null],[null,null],[null,null],[null,null],[null,null],[null,null],[null,null],[null,null],[null,null],[null,null],[null,null],[null,null],[null,null],[null,null],[null,null],[null,null],[null,null],[null,null],[null,null],[null,null],[null,null],[null,null],[null,null],[null,null],[null,null],[null,null],[null,null],[null,null],[null,null],[null,null],[null,null],[null,null],[null,null],[null,null],[null,null],[null,null],[null,null],[null,null],[null,null],[null,null],[null,null],[null,null],[null,null],[null,null],[null,null],[null,null],[null,null],[null,null],[null,null],[null,null],[null,null],[null,null],[null,null],[null,null],[null,null],[null,null],[null,null],[null,null],[null,null],[null,null],[null,null],[null,null],[null,null],[null,null],[null,null],[null,null],[null,null],[null,null],[null,null],[null,null],[null,null],[null,null],[null,null],[null,null],[null,null],[null,null],[null,null],[null,null],[null,null],[null,null],[null,null],[null,null],[null,null],[null,null],[null,null],[null,null],[null,null],[null,null],[null,null],[null,null],[null,null],[null,null],[null,null],[null,null],[null,null],[null,null],[null,null],[null,null],[null,null],[null,null],[null,null],[null,null],[null,null],[null,null],[null,null],[null,null],[null,null],[null,null],[null,null],[null,null],[null,null],[null,null],[null,null],[null,null],[null,null],[null,null],[null,null],[null,null],[null,null],[null,null],[null,null],[null,null],[null,null],[null,null],[null,null],[null,null],[null,null],[null,null],[null,null],[null,null],[null,null],[null,null],[null,null],[null,null],[null,null],[null,null],[null,null],[null,null],[null,null],[null,null],[null,null],[null,null],[null,null],[null,null],[null,null],[null,null],[null,null],[null,null],[null,null],[null,null],[null,null],[null,null],[null,null],[null,null],[null,null],[null,null],[null,null],[null,null],[null,null],[null,null],[null,null],[null,null],[null,null],[null,null],[null,null],[null,null],[null,null],[null,null],[null,null],[null,null],[null,null],[null,null],[null,null],[null,null],[null,null],[null,null],[null,null],[null,null]],\"type\":\"heatmap\"}],{\"title\":\"decision space\",\"width\":700,\"height\":700});}if(window.Plotly){plot();}else if(!window.require){var head = document.head || document.getElementsByTagName('head')[0];var s = document.createElement('script');s.src = 'https://cdn.plot.ly/plotly-latest.min.js';s.type = 'text/javascript';s.async = false;s.onreadystatechange = s.onload = plot;head.appendChild(s);}else{require(['/notebooks/node_modules/plotly-notebook-js/build/plotly.min.js'], function(Plotly){window.Plotly = Plotly;plot();});}</script></div>"
      ]
     },
     "execution_count": 6,
     "metadata": {},
     "output_type": "execute_result"
    }
   ],
   "source": [
    "function myClassifier(centroids, inputs) {\n",
    "    var distance = require('ml-distance').distance; \n",
    "    return inputs.map(row => {\n",
    "        \n",
    "        return row.map(col => {\n",
    "            \n",
    "            // for each class\n",
    "            var dists = centroids.map(c => {\n",
    "                return distance.euclidean(c, row);\n",
    "            })\n",
    "\n",
    "            var mindist = dists.reduce((a,d) => {\n",
    "                return Math.min(a, d)\n",
    "            }, 99999)\n",
    "\n",
    "            var foundClass = -1;\n",
    "            for (let i = 0; i < 3; i++) {\n",
    "                if (mindist === dists[i]) {\n",
    "                    foundClass = i; \n",
    "                    break;\n",
    "                }\n",
    "            }\n",
    "\n",
    "            //return [...row, foundClass+1];\n",
    "            return foundClass+1;\n",
    "        })\n",
    "    })\n",
    "}\n",
    "\n",
    "\n",
    "\n",
    "var g = grid2([0,10]);\n",
    "var H = myClassifier(centroids, input); \n",
    "\n",
    "var trace = {\n",
    "    z: H.map(row => row.map(h => h[2])),\n",
    "    type: \"heatmap\"\n",
    "}\n",
    "\n",
    "var layout = {\n",
    "    title: \"decision space\",\n",
    "    width: 700,\n",
    "    height: 700\n",
    "}\n",
    "\n",
    "$$html$$ = Plot.createPlot([trace], layout).render()"
   ]
  },
  {
   "cell_type": "markdown",
   "metadata": {
    "nbpresent": {
     "id": "01bc6ea8-219c-44a7-8264-dfc9ba2350d3"
    }
   },
   "source": [
    " ### Time to Play around\n",
    " \n",
    " Time to try a few different things out and see the effect on the clustering and classification\n",
    " \n",
    " - try with different initialisations\n",
    "   - mostDistant\n",
    "   - use the class centers that we picked manually\n",
    " - try with different values of K, what happens? why?\n",
    " - try with fewer points, how does restricting the training set affect class positions?\n",
    " - (time allowing) try with a different dataset"
   ]
  },
  {
   "cell_type": "markdown",
   "metadata": {
    "nbpresent": {
     "id": "fb3431c5-9867-4f54-91c6-05575c3341f9"
    }
   },
   "source": [
    "### Confidence\n",
    "\n",
    "So we have assigned all of the samples in our training set to one of K classes and we've used the centroids produced to configure a classifier, so we can classify wines that we've never seen before, we've genrelised!\n",
    "\n",
    "\n",
    "But are all wines in a class equal? how can we measure confidence of membership in any one class? (hint: look back at out scatter plot)\n",
    "\n",
    "\n",
    "##### TODO Think of a confidence measure, compute it and display a new scatter plot with marker sizes adjusted for confidence\n",
    "\n",
    "So for each of our N entires in `input` and `clusters`, we'll want a new N entry list `confidence`.\n"
   ]
  },
  {
   "cell_type": "code",
   "execution_count": 69,
   "metadata": {
    "collapsed": false,
    "nbpresent": {
     "id": "1ad289bd-d5f3-452e-bf7f-1258cbdaa3a4"
    }
   },
   "outputs": [
    {
     "data": {
      "text/plain": [
       "'use strict'"
      ]
     },
     "execution_count": 69,
     "metadata": {},
     "output_type": "execute_result"
    }
   ],
   "source": [
    "// derive a confidence measure and compute it"
   ]
  },
  {
   "cell_type": "code",
   "execution_count": 70,
   "metadata": {
    "collapsed": false,
    "nbpresent": {
     "id": "e52675fc-d610-4c30-b160-978bc92832eb"
    }
   },
   "outputs": [
    {
     "data": {
      "text/plain": [
       "'use strict'"
      ]
     },
     "execution_count": 70,
     "metadata": {},
     "output_type": "execute_result"
    }
   ],
   "source": [
    "// grabs the scatter plot code form above and customise it to some"
   ]
  },
  {
   "cell_type": "code",
   "execution_count": null,
   "metadata": {
    "collapsed": true,
    "nbpresent": {
     "id": "12414fc4-be9c-4349-b1e2-15b8f6029d73"
    }
   },
   "outputs": [],
   "source": []
  },
  {
   "cell_type": "markdown",
   "metadata": {},
   "source": [
    "#### Further Reading\n",
    "\n",
    "More sophisticated techniques can produce different\n",
    "\n",
    " - bayes learning and 2nd order bayes classifers\n",
    " - gaussian mixture modelling\n",
    " - measuring performance in undersuipervised learning"
   ]
  }
 ],
 "metadata": {
  "anaconda-cloud": {},
  "kernelspec": {
   "display_name": "jp-Babel (Node.js)",
   "language": "babel",
   "name": "babel"
  },
  "language_info": {
   "file_extension": ".js",
   "mimetype": "application/javascript",
   "name": "javascript",
   "version": "8.5.0"
  }
 },
 "nbformat": 4,
 "nbformat_minor": 2
}
