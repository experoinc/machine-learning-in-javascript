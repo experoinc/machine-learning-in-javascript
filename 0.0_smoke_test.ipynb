{
 "cells": [
  {
   "cell_type": "markdown",
   "metadata": {
    "collapsed": true
   },
   "source": [
    "# Smoke Test\n",
    "\n",
    "This notebook simple imports all the libraries that we are going to use to make sure that we have our dependencies loaded ok. It's also a good place to check back to if you need a quick link to any documentation.\n",
    "\n",
    "Make sure you've run `npm install` in the root folder before running this.\n",
    "\n",
    "then run the whole workbook by selecting `Run All` from the `Cell` menu.\n",
    "\n",
    "### Contents\n",
    "\n",
    " - [plotly-js-notebook](#plotly-js-notebook)\n",
    " - [node-fetch](#node-fetch)\n",
    " - [lodash](#lodash)\n",
    " - [csv-parse](#csv-parse)\n",
    " - [math.js](#math.js)\n",
    " - [ml.js](#ml.js)\n",
    "   "
   ]
  },
  {
   "cell_type": "markdown",
   "metadata": {},
   "source": [
    "## plotly-js-notebook <a class=\"anchor\" id=\"plotly-js-notebook\"></a>\n",
    "\n",
    "We use plotly for all plotting. You can probably load another lib if you like but the js wrapper we load plays nice with notebooks. Still refer to the main [plotly docs](https://plot.ly/javascript/) for usage.\n",
    "\n",
    "\n"
   ]
  },
  {
   "cell_type": "code",
   "execution_count": 11,
   "metadata": {
    "collapsed": false
   },
   "outputs": [
    {
     "data": {
      "text/plain": [
       "'use strict'"
      ]
     },
     "execution_count": 11,
     "metadata": {},
     "output_type": "execute_result"
    }
   ],
   "source": [
    "var Plot = require('plotly-notebook-js');"
   ]
  },
  {
   "cell_type": "markdown",
   "metadata": {},
   "source": [
    "## node-fetch  <a class=\"anchor\" id=\"node-fetch\"></a>\n",
    "\n",
    "A `fetch` client for node allowing us to pull data etc... fron a url.\n",
    "\n",
    "[the docs are here](https://www.npmjs.com/package/node-fetch)"
   ]
  },
  {
   "cell_type": "code",
   "execution_count": 12,
   "metadata": {
    "collapsed": false
   },
   "outputs": [
    {
     "data": {
      "text/plain": [
       "'use strict'"
      ]
     },
     "execution_count": 12,
     "metadata": {},
     "output_type": "execute_result"
    }
   ],
   "source": [
    "import fetch from 'node-fetch';"
   ]
  },
  {
   "cell_type": "markdown",
   "metadata": {},
   "source": [
    "## lodash  <a class=\"anchor\" id=\"lodash\"></a>\n",
    "\n",
    "Lodash is available. Import the whole lib or only parts that you need.\n",
    "\n",
    "[the docs are here](https://lodash.com/docs/4.17.4)"
   ]
  },
  {
   "cell_type": "code",
   "execution_count": 13,
   "metadata": {
    "collapsed": false
   },
   "outputs": [
    {
     "data": {
      "text/plain": [
       "'use strict'"
      ]
     },
     "execution_count": 13,
     "metadata": {},
     "output_type": "execute_result"
    }
   ],
   "source": [
    "import loadash from 'lodash';\n",
    "import reduce from 'lodash/reduce';"
   ]
  },
  {
   "cell_type": "markdown",
   "metadata": {},
   "source": [
    "## csv-parse  <a class=\"anchor\" id=\"csv-parse\"></a>\n",
    "\n",
    "Data often comes in simple tables in `csv` format. Generally in teh notebook we can stick to the synchronous api it provides. Watch our for the sub-module path on importing. \n",
    "\n",
    "[the docs are here](http://csv.adaltas.com/parse/)"
   ]
  },
  {
   "cell_type": "code",
   "execution_count": 14,
   "metadata": {
    "collapsed": false
   },
   "outputs": [
    {
     "data": {
      "text/plain": [
       "'use strict'"
      ]
     },
     "execution_count": 14,
     "metadata": {},
     "output_type": "execute_result"
    }
   ],
   "source": [
    "import fs from 'fs';\n",
    "import parse from 'csv-parse/lib/sync';"
   ]
  },
  {
   "cell_type": "markdown",
   "metadata": {},
   "source": [
    "## math.js  <a class=\"anchor\" id=\"math.js\"></a>\n"
   ]
  },
  {
   "cell_type": "code",
   "execution_count": null,
   "metadata": {
    "collapsed": true
   },
   "outputs": [],
   "source": []
  },
  {
   "cell_type": "markdown",
   "metadata": {},
   "source": [
    "## ml.js  <a class=\"anchor\" id=\"ml.js\"></a>"
   ]
  },
  {
   "cell_type": "code",
   "execution_count": 11,
   "metadata": {
    "collapsed": false
   },
   "outputs": [
    {
     "data": {
      "text/plain": [
       "'use strict'"
      ]
     },
     "execution_count": 11,
     "metadata": {},
     "output_type": "execute_result"
    }
   ],
   "source": [
    "// unsupervised\n",
    "import PCA from 'ml-pca';\n",
    "import KMEANS from 'ml-kmeans';\n",
    "import HCLUST from 'ml-hclust';\n",
    "\n",
    "// supervised\n",
    "import KNN from 'ml-knn';\n",
    "import SVM from 'ml-svm';\n",
    "\n",
    "// utility\n",
    "import PERFOMANCE from 'ml-svm';\n",
    "import COMFUSION from 'ml-confusion-matrix';\n",
    "import CVALID from 'ml-cross-validation';\n",
    "import DISTANCE from 'ml-distance';"
   ]
  },
  {
   "cell_type": "markdown",
   "metadata": {},
   "source": [
    "### ndarray packages\n",
    "\n",
    " - [main ndarray package list](http://scijs.net/packages/#scijs)\n",
    " - [zeros](https://www.npmjs.com/package/zeros) \n"
   ]
  },
  {
   "cell_type": "code",
   "execution_count": 1,
   "metadata": {
    "collapsed": false
   },
   "outputs": [
    {
     "data": {
      "text/plain": [
       "'use strict'"
      ]
     },
     "execution_count": 1,
     "metadata": {},
     "output_type": "execute_result"
    }
   ],
   "source": [
    "import ndarray from 'ndarray'\n",
    "import zeros from 'zeros'\n",
    "import fill from 'ndarray-fill'"
   ]
  },
  {
   "cell_type": "markdown",
   "metadata": {
    "collapsed": true
   },
   "source": [
    "### encog.js\n",
    "\n",
    " - [encog](https://github.com/redsoul/encog)"
   ]
  },
  {
   "cell_type": "code",
   "execution_count": 3,
   "metadata": {
    "collapsed": false
   },
   "outputs": [
    {
     "data": {
      "text/plain": [
       "'use strict'"
      ]
     },
     "execution_count": 3,
     "metadata": {},
     "output_type": "execute_result"
    }
   ],
   "source": [
    "import Encog from 'encog';"
   ]
  },
  {
   "cell_type": "markdown",
   "metadata": {},
   "source": [
    "#### Regression\n",
    "\n",
    " - [regressionjs](https://github.com/Tom-Alexander/regression-js)"
   ]
  },
  {
   "cell_type": "code",
   "execution_count": 28,
   "metadata": {
    "collapsed": false
   },
   "outputs": [
    {
     "name": "stdout",
     "output_type": "stream",
     "text": [
      "a |    b\n",
      "1 |    2\n",
      "3 | -1,12.2\n"
     ]
    }
   ],
   "source": [
    "import table from 'text-table';\n",
    "console.log(table([['a','b'],[1,2],[3,[-1, 12.2]]], { align: [ 'c', 'c' ], hsep: ' | ' }))"
   ]
  },
  {
   "cell_type": "code",
   "execution_count": null,
   "metadata": {
    "collapsed": true
   },
   "outputs": [],
   "source": []
  },
  {
   "cell_type": "code",
   "execution_count": null,
   "metadata": {
    "collapsed": true
   },
   "outputs": [],
   "source": []
  },
  {
   "cell_type": "code",
   "execution_count": null,
   "metadata": {
    "collapsed": true
   },
   "outputs": [],
   "source": []
  }
 ],
 "metadata": {
  "anaconda-cloud": {},
  "kernelspec": {
   "display_name": "jp-Babel (Node.js)",
   "language": "babel",
   "name": "babel"
  },
  "language_info": {
   "file_extension": ".js",
   "mimetype": "application/javascript",
   "name": "javascript",
   "version": "8.5.0"
  }
 },
 "nbformat": 4,
 "nbformat_minor": 2
}
