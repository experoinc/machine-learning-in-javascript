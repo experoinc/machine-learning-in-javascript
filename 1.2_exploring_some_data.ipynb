{
 "cells": [
  {
   "cell_type": "markdown",
   "metadata": {},
   "source": [
    "#### Goals\n",
    "\n",
    " - load a dataset\n",
    " - look for distributions\n",
    " - explore the data alone different dimensions"
   ]
  },
  {
   "cell_type": "markdown",
   "metadata": {},
   "source": [
    "## Load the Wine Dataset - (no labels)\n",
    "\n"
   ]
  },
  {
   "cell_type": "code",
   "execution_count": 1,
   "metadata": {
    "collapsed": false
   },
   "outputs": [
    {
     "data": {
      "text/plain": [
       "'use strict'"
      ]
     },
     "execution_count": 1,
     "metadata": {},
     "output_type": "execute_result"
    }
   ],
   "source": [
    "var fs = require(\"fs\");\n",
    "var parse = require('csv-parse/lib/sync');\n",
    "var table = require('text-table');\n",
    "var Plot = require('plotly-notebook-js');\n",
    "var groupBy = require('lodash/groupBy');\n",
    "var keys = require('lodash/keys');"
   ]
  },
  {
   "cell_type": "code",
   "execution_count": null,
   "metadata": {
    "collapsed": true
   },
   "outputs": [],
   "source": []
  },
  {
   "cell_type": "code",
   "execution_count": 3,
   "metadata": {
    "collapsed": false
   },
   "outputs": [
    {
     "name": "stdout",
     "output_type": "stream",
     "text": [
      "our dataset has 178 rows and  13 columns\n"
     ]
    }
   ],
   "source": [
    "var raw_csv_string = fs.readFileSync(\"datasets/wine.data.unlabelled.csv\").toString();\n",
    "var dataset = parse(raw_csv_string);\n",
    "console.log(\"our dataset has\", dataset.length, \"rows and \", dataset[0].length, \"columns\")"
   ]
  },
  {
   "cell_type": "markdown",
   "metadata": {},
   "source": [
    "In other words we have a dataset cointaining 178 feature vectors, each made up of 13 features. Each feature vector corresponds to a particular wine.\n",
    "\n",
    "So we have a 13-dimensional data space that we could potentially do our analysis in. That's $R^{13}$!"
   ]
  },
  {
   "cell_type": "code",
   "execution_count": 4,
   "metadata": {
    "collapsed": false
   },
   "outputs": [
    {
     "name": "stdout",
     "output_type": "stream",
     "text": [
      "Alcohol | Malic Acid | Ash | Alcalinity of ash | Magnesium | Total phenols | Flavanoids | Nonflavanoid phenols | Proanthocyanins | Color intensity | Hue | OD280/OD315 of diluted wines | Proline\n",
      "---------------------------\n",
      "14.23 | 1.71 | 2.43 | 15.6 | 127 | 2.8  | 3.06 | 0.28 | 2.29 | 5.64 | 1.04 | 3.92 | 1065\n",
      " 13.2 | 1.78 | 2.14 | 11.2 | 100 | 2.65 | 2.76 | 0.26 | 1.28 | 4.38 | 1.05 | 3.4  | 1050\n",
      "13.16 | 2.36 | 2.67 | 18.6 | 101 | 2.8  | 3.24 | 0.3  | 2.81 | 5.68 | 1.03 | 3.17 | 1185\n",
      "14.37 | 1.95 | 2.5  | 16.8 | 113 | 3.85 | 3.49 | 0.24 | 2.18 | 7.8  | 0.86 | 3.45 | 1480\n",
      "13.24 | 2.59 | 2.87 | 21   | 118 | 2.8  | 2.69 | 0.39 | 1.82 | 4.32 | 1.04 | 2.93 | 735\n"
     ]
    }
   ],
   "source": [
    "var features = [\n",
    "    'Alcohol',\n",
    "    'Malic Acid',\n",
    "    'Ash',\n",
    "    'Alcalinity of ash',\n",
    "    'Magnesium',\n",
    "    'Total phenols',\n",
    "    'Flavanoids',\n",
    "    'Nonflavanoid phenols',\n",
    "    'Proanthocyanins',\n",
    "    'Color intensity',\n",
    "    'Hue',\n",
    "    'OD280/OD315 of diluted wines',\n",
    "    'Proline'];\n",
    "\n",
    "var format = { align: [ 'c', 'c' ], hsep: ' | ' };\n",
    "\n",
    "var T = table([features], format);\n",
    "console.log(T)\n",
    "console.log(\"---------------------------\")\n",
    "var D = table(dataset.slice(0,5), format);\n",
    "console.log(D)"
   ]
  },
  {
   "cell_type": "markdown",
   "metadata": {},
   "source": [
    "Each of those feature is some measurement made on a wine. We have wine data from a number of different geographical regions.\n",
    "\n",
    "The point of this dataset is can we work out which wines are from teh same region? Can we even work out how many different regiosn we have wines from?\n",
    "\n",
    "Algorithms aside, how would you do that?"
   ]
  },
  {
   "cell_type": "markdown",
   "metadata": {},
   "source": [
    "## Lets plot some data\n",
    "\n",
    "### 1D\n",
    "\n",
    "We could plot a simple histogram of any dimension we choose. Can we determine the number of regions or assign any wine to a region from a single dimension?"
   ]
  },
  {
   "cell_type": "code",
   "execution_count": 16,
   "metadata": {
    "collapsed": false
   },
   "outputs": [
    {
     "data": {
      "text/html": [
       "<div class='plotly-plot'><div id='notebook-plot-1507717139213'></div><script>function plot(){Plotly.plot('notebook-plot-1507717139213',[{\"x\":[2,3,4,3.9,3.4,3.1,2.9,2.8,3.5,2.7,2.6,2.5,3.3,3.7,3.6,3.8,3.2,1.8,1.6,1.5,2.4,2.2,2.3,1.9,2.1,1.2,1.4,1.3,1.7],\"y\":[5,9,1,1,6,14,7,15,9,13,4,5,12,1,3,1,8,7,9,9,6,4,4,3,4,3,3,5,7],\"type\":\"bar\",\"name\":\"cosine\"}],{\"title\":\"Feature: OD280/OD315 of diluted wines\",\"xaxis\":{\"title\":\"OD280/OD315 of diluted wines\"},\"yaxis\":{\"title\":\"Value\"}});}if(window.Plotly){plot();}else if(!window.require){var head = document.head || document.getElementsByTagName('head')[0];var s = document.createElement('script');s.src = 'https://cdn.plot.ly/plotly-latest.min.js';s.type = 'text/javascript';s.async = false;s.onreadystatechange = s.onload = plot;head.appendChild(s);}else{require(['/notebooks/node_modules/plotly-notebook-js/build/plotly.min.js'], function(Plotly){window.Plotly = Plotly;plot();});}</script></div>"
      ]
     },
     "execution_count": 16,
     "metadata": {},
     "output_type": "execute_result"
    }
   ],
   "source": [
    "var decimals = 1;\n",
    "var factor = Math.pow(10,decimals);\n",
    "\n",
    "// select a feature\n",
    "var DIM = 11;\n",
    "// -------\n",
    "var groups = groupBy(dataset.map((row) => row[DIM]), v => Math.floor(factor*v)/factor);\n",
    "var values = keys(groups);\n",
    "var histogram = values.map(value => groups[value].length);\n",
    "\n",
    "var trace = { x: values.map(s => parseFloat(s)), y: histogram, type: 'bar', name: 'cosine'}\n",
    "var layout = { title: `Feature: ${features[DIM]}`, xaxis: { title: features[DIM] }, yaxis: { title: \"Value\" }};\n",
    "\n",
    "var myPlot = Plot.createPlot([trace], layout);\n",
    "\n",
    "$$html$$ = myPlot.render();"
   ]
  },
  {
   "cell_type": "markdown",
   "metadata": {},
   "source": [
    "\n",
    "### Move to 2D\n"
   ]
  },
  {
   "cell_type": "code",
   "execution_count": 26,
   "metadata": {
    "collapsed": false
   },
   "outputs": [
    {
     "data": {
      "text/html": [
       "<div class='plotly-plot'><div id='notebook-plot-1507717374233'></div><script>function plot(){Plotly.plot('notebook-plot-1507717374233',[{\"x\":[14.23,13.2,13.16,14.37,13.24,14.2,14.39,14.06,14.83,13.86,14.1,14.12,13.75,14.75,14.38,13.63,14.3,13.83,14.19,13.64,14.06,12.93,13.71,12.85,13.5,13.05,13.39,13.3,13.87,14.02,13.73,13.58,13.68,13.76,13.51,13.48,13.28,13.05,13.07,14.22,13.56,13.41,13.88,13.24,13.05,14.21,14.38,13.9,14.1,13.94,13.05,13.83,13.82,13.77,13.74,13.56,14.22,13.29,13.72,12.37,12.33,12.64,13.67,12.37,12.17,12.37,13.11,12.37,13.34,12.21,12.29,13.86,13.49,12.99,11.96,11.66,13.03,11.84,12.33,12.7,12,12.72,12.08,13.05,11.84,12.67,12.16,11.65,11.64,12.08,12.08,12,12.69,12.29,11.62,12.47,11.81,12.29,12.37,12.29,12.08,12.6,12.34,11.82,12.51,12.42,12.25,12.72,12.22,11.61,11.46,12.52,11.76,11.41,12.08,11.03,11.82,12.42,12.77,12,11.45,11.56,12.42,13.05,11.87,12.07,12.43,11.79,12.37,12.04,12.86,12.88,12.81,12.7,12.51,12.6,12.25,12.53,13.49,12.84,12.93,13.36,13.52,13.62,12.25,13.16,13.88,12.87,13.32,13.08,13.5,12.79,13.11,13.23,12.58,13.17,13.84,12.45,14.34,13.48,12.36,13.69,12.85,12.96,13.78,13.73,13.45,12.82,13.58,13.4,12.2,12.77,14.16,13.71,13.4,13.27,13.17,14.13],\"y\":[3.92,3.4,3.17,3.45,2.93,2.85,3.58,3.58,2.85,3.55,3.17,2.82,2.9,2.73,3,2.88,2.65,2.57,2.82,3.36,3.71,3.52,4,3.63,3.82,3.2,3.22,2.77,3.4,3.59,2.71,2.88,2.87,3,2.87,3.47,2.78,2.51,2.69,3.53,3.38,3,3.56,3,3.35,3.33,3.44,3.33,2.75,3.1,2.91,3.37,3.26,2.93,3.2,3.03,3.31,2.84,2.87,1.82,1.67,1.59,2.46,2.87,2.23,2.3,3.18,3.48,1.93,3.07,1.82,3.16,2.78,3.5,3.13,2.14,2.48,2.52,2.31,3.13,3.12,3.14,2.72,2.01,3.08,3.16,2.26,3.21,2.75,3.21,2.27,2.65,2.06,3.3,2.96,2.63,2.26,2.74,2.77,2.83,2.96,2.77,3.38,2.44,3.57,3.3,3.17,2.42,3.02,3.26,2.81,2.78,2.5,2.31,3.19,2.87,3.33,2.96,2.12,3.05,3.39,3.69,3.12,3.1,3.64,3.28,2.84,2.44,2.78,2.57,1.29,1.42,1.36,1.29,1.51,1.58,1.27,1.69,1.82,2.15,2.31,2.47,2.06,2.05,2,1.68,1.33,1.86,1.62,1.33,1.3,1.47,1.33,1.51,1.55,1.48,1.64,1.73,1.96,1.78,1.58,1.82,2.11,1.75,1.68,1.75,1.56,1.75,1.8,1.92,1.83,1.63,1.71,1.74,1.56,1.56,1.62,1.6],\"mode\":\"markers\",\"marker\":{\"size\":5},\"type\":\"scatter\"}],{\"xaxis\":{\"title\":\"Alcohol\"},\"yaxis\":{\"title\":\"OD280/OD315 of diluted wines\"},\"width\":500,\"height\":500});}if(window.Plotly){plot();}else if(!window.require){var head = document.head || document.getElementsByTagName('head')[0];var s = document.createElement('script');s.src = 'https://cdn.plot.ly/plotly-latest.min.js';s.type = 'text/javascript';s.async = false;s.onreadystatechange = s.onload = plot;head.appendChild(s);}else{require(['/notebooks/node_modules/plotly-notebook-js/build/plotly.min.js'], function(Plotly){window.Plotly = Plotly;plot();});}</script></div>"
      ]
     },
     "execution_count": 26,
     "metadata": {},
     "output_type": "execute_result"
    }
   ],
   "source": [
    "var X = 0;\n",
    "var Y = 11;\n",
    "\n",
    "var x = dataset.map(d => d[X]).map(f => parseFloat(f));\n",
    "var y = dataset.map(d => d[Y]).map(f => parseFloat(f));\n",
    "\n",
    "var singleTrace = { x, y, mode: 'markers', marker: { size: 5, }, type: 'scatter' };\n",
    "\n",
    "var layout = { xaxis: { title: features[X] }, yaxis: { title: features[Y] }, width: 500, height: 500 };\n",
    "\n",
    "$$html$$ = Plot.createPlot([singleTrace], layout).render()"
   ]
  },
  {
   "cell_type": "markdown",
   "metadata": {},
   "source": [
    "#### What about in 3D or 4D?"
   ]
  },
  {
   "cell_type": "code",
   "execution_count": 35,
   "metadata": {
    "collapsed": false
   },
   "outputs": [
    {
     "data": {
      "text/html": [
       "<div class='plotly-plot'><div id='notebook-plot-1507717480000'></div><script>function plot(){Plotly.plot('notebook-plot-1507717480000',[{\"x\":[14.23,13.2,13.16,14.37,13.24,14.2,14.39,14.06,14.83,13.86,14.1,14.12,13.75,14.75,14.38,13.63,14.3,13.83,14.19,13.64,14.06,12.93,13.71,12.85,13.5,13.05,13.39,13.3,13.87,14.02,13.73,13.58,13.68,13.76,13.51,13.48,13.28,13.05,13.07,14.22,13.56,13.41,13.88,13.24,13.05,14.21,14.38,13.9,14.1,13.94,13.05,13.83,13.82,13.77,13.74,13.56,14.22,13.29,13.72,12.37,12.33,12.64,13.67,12.37,12.17,12.37,13.11,12.37,13.34,12.21,12.29,13.86,13.49,12.99,11.96,11.66,13.03,11.84,12.33,12.7,12,12.72,12.08,13.05,11.84,12.67,12.16,11.65,11.64,12.08,12.08,12,12.69,12.29,11.62,12.47,11.81,12.29,12.37,12.29,12.08,12.6,12.34,11.82,12.51,12.42,12.25,12.72,12.22,11.61,11.46,12.52,11.76,11.41,12.08,11.03,11.82,12.42,12.77,12,11.45,11.56,12.42,13.05,11.87,12.07,12.43,11.79,12.37,12.04,12.86,12.88,12.81,12.7,12.51,12.6,12.25,12.53,13.49,12.84,12.93,13.36,13.52,13.62,12.25,13.16,13.88,12.87,13.32,13.08,13.5,12.79,13.11,13.23,12.58,13.17,13.84,12.45,14.34,13.48,12.36,13.69,12.85,12.96,13.78,13.73,13.45,12.82,13.58,13.4,12.2,12.77,14.16,13.71,13.4,13.27,13.17,14.13],\"y\":[3.92,3.4,3.17,3.45,2.93,2.85,3.58,3.58,2.85,3.55,3.17,2.82,2.9,2.73,3,2.88,2.65,2.57,2.82,3.36,3.71,3.52,4,3.63,3.82,3.2,3.22,2.77,3.4,3.59,2.71,2.88,2.87,3,2.87,3.47,2.78,2.51,2.69,3.53,3.38,3,3.56,3,3.35,3.33,3.44,3.33,2.75,3.1,2.91,3.37,3.26,2.93,3.2,3.03,3.31,2.84,2.87,1.82,1.67,1.59,2.46,2.87,2.23,2.3,3.18,3.48,1.93,3.07,1.82,3.16,2.78,3.5,3.13,2.14,2.48,2.52,2.31,3.13,3.12,3.14,2.72,2.01,3.08,3.16,2.26,3.21,2.75,3.21,2.27,2.65,2.06,3.3,2.96,2.63,2.26,2.74,2.77,2.83,2.96,2.77,3.38,2.44,3.57,3.3,3.17,2.42,3.02,3.26,2.81,2.78,2.5,2.31,3.19,2.87,3.33,2.96,2.12,3.05,3.39,3.69,3.12,3.1,3.64,3.28,2.84,2.44,2.78,2.57,1.29,1.42,1.36,1.29,1.51,1.58,1.27,1.69,1.82,2.15,2.31,2.47,2.06,2.05,2,1.68,1.33,1.86,1.62,1.33,1.3,1.47,1.33,1.51,1.55,1.48,1.64,1.73,1.96,1.78,1.58,1.82,2.11,1.75,1.68,1.75,1.56,1.75,1.8,1.92,1.83,1.63,1.71,1.74,1.56,1.56,1.62,1.6],\"mode\":\"markers\",\"marker\":{\"color\":[3.06,2.76,3.24,3.49,2.69,3.39,2.52,2.51,2.98,3.15,3.32,2.43,2.76,3.69,3.64,2.91,3.14,3.4,3.93,3.03,3.17,2.41,2.88,2.37,2.61,2.68,2.94,2.19,2.97,2.33,3.25,3.19,2.69,2.74,2.53,2.98,2.68,2.43,2.64,3.04,3.29,2.68,3.56,2.63,3,2.65,3.17,3.39,2.92,3.54,3.27,2.99,3.74,2.79,2.9,2.78,3,3.23,3.67,0.57,1.09,1.41,1.79,3.1,1.75,2.65,3.18,2,1.3,1.28,1.02,2.86,1.84,2.89,2.14,1.57,2.03,1.32,1.85,2.55,2.26,2.53,1.58,1.59,2.21,1.94,1.69,1.61,1.69,1.59,1.5,1.25,1.46,2.25,2.26,2.27,0.99,2.5,3.75,2.99,2.17,1.36,2.11,1.64,1.92,1.84,2.03,1.76,2.04,2.92,2.58,2.27,2.03,2.01,2.29,2.17,1.6,2.09,1.25,1.64,2.79,5.08,2.13,2.65,3.03,2.65,3.15,2.24,2.45,1.75,1.25,1.22,1.09,1.2,0.58,0.66,0.47,0.6,0.48,0.6,0.5,0.5,0.52,0.8,0.78,0.55,0.34,0.65,0.76,1.39,1.57,1.36,1.28,0.83,0.58,0.63,0.83,0.58,1.31,1.1,0.92,0.56,0.6,0.7,0.68,0.47,0.92,0.66,0.84,0.96,0.49,0.51,0.7,0.61,0.75,0.69,0.68,0.76],\"size\":[1065,1050,1185,1480,735,1450,1290,1295,1045,1045,1510,1280,1320,1150,1547,1310,1280,1130,1680,845,780,770,1035,1015,845,830,1195,1285,915,1035,1285,1515,990,1235,1095,920,880,1105,1020,760,795,1035,1095,680,885,1080,1065,985,1060,1260,1150,1265,1190,1375,1060,1120,970,1270,1285,520,680,450,630,420,355,678,502,510,750,718,870,410,472,985,886,428,392,500,750,463,278,714,630,515,520,450,495,562,680,625,480,450,495,290,345,937,625,428,660,406,710,562,438,415,672,315,510,488,312,680,562,325,607,434,385,407,495,345,372,564,625,465,365,380,380,378,352,466,342,580,630,530,560,600,650,695,720,515,580,590,600,780,520,550,855,830,415,625,650,550,500,480,425,675,640,725,480,880,660,620,520,680,570,675,615,520,695,685,750,630,510,470,660,740,750,835,840,560],\"sizeref\":20},\"type\":\"scatter\"}],{\"title\":\"Size Proline | Color: Flavanoids\",\"xaxis\":{\"title\":\"Alcohol\"},\"yaxis\":{\"title\":\"OD280/OD315 of diluted wines\"},\"width\":700,\"height\":700});}if(window.Plotly){plot();}else if(!window.require){var head = document.head || document.getElementsByTagName('head')[0];var s = document.createElement('script');s.src = 'https://cdn.plot.ly/plotly-latest.min.js';s.type = 'text/javascript';s.async = false;s.onreadystatechange = s.onload = plot;head.appendChild(s);}else{require(['/notebooks/node_modules/plotly-notebook-js/build/plotly.min.js'], function(Plotly){window.Plotly = Plotly;plot();});}</script></div>"
      ]
     },
     "execution_count": 35,
     "metadata": {},
     "output_type": "execute_result"
    }
   ],
   "source": [
    "var X = 0, Y = 11, COLOR = 6, SIZE = 12;\n",
    "\n",
    "var x = dataset.map(d => d[X]).map(f => parseFloat(f));\n",
    "var y = dataset.map(d => d[Y]).map(f => parseFloat(f));\n",
    "var color = dataset.map(d => d[COLOR]).map(f => parseFloat(f));\n",
    "var size = dataset.map(d => d[SIZE]).map(f => parseFloat(f));\n",
    "var singleTrace = { x, y, mode: 'markers', marker: { color, size, sizeref: 20 }, type: 'scatter' };\n",
    "var layout = { title: `Size ${features[SIZE]} | Color: ${features[COLOR]}`, \n",
    "  xaxis: { title: features[X] }, yaxis: { title: features[Y] }, width: 700, height: 700 };\n",
    "\n",
    "$$html$$ = Plot.createPlot([singleTrace], layout).render()"
   ]
  },
  {
   "cell_type": "code",
   "execution_count": null,
   "metadata": {
    "collapsed": true
   },
   "outputs": [],
   "source": []
  }
 ],
 "metadata": {
  "anaconda-cloud": {},
  "kernelspec": {
   "display_name": "jp-Babel (Node.js)",
   "language": "babel",
   "name": "babel"
  },
  "language_info": {
   "file_extension": ".js",
   "mimetype": "application/javascript",
   "name": "javascript",
   "version": "8.5.0"
  }
 },
 "nbformat": 4,
 "nbformat_minor": 2
}
